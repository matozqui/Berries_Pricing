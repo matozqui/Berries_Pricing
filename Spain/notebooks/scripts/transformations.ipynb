{
 "metadata": {
  "language_info": {
   "codemirror_mode": {
    "name": "ipython",
    "version": 3
   },
   "file_extension": ".py",
   "mimetype": "text/x-python",
   "name": "python",
   "nbconvert_exporter": "python",
   "pygments_lexer": "ipython3",
   "version": "3.8.3-final"
  },
  "orig_nbformat": 2,
  "kernelspec": {
   "name": "python_defaultSpec_1598707646729",
   "display_name": "Python 3.8.3 64-bit"
  }
 },
 "nbformat": 4,
 "nbformat_minor": 2,
 "cells": [
  {
   "cell_type": "code",
   "execution_count": 83,
   "metadata": {},
   "outputs": [],
   "source": [
    "def normalize(df):\n",
    "\n",
    "    ##  Function to normalize continous variables into 0 to 1 range ##\n",
    "\n",
    "    from sklearn.preprocessing import MinMaxScaler\n",
    "    import pandas as pd\n",
    "\n",
    "    norm_inst = MinMaxScaler(feature_range=(0.01, 0.99))\n",
    "    norm = norm_inst.fit_transform(df)\n",
    "\n",
    "    return norm_inst, norm"
   ]
  },
  {
   "cell_type": "code",
   "execution_count": 84,
   "metadata": {},
   "outputs": [],
   "source": [
    "def denormalize(norm_inst,norm):\n",
    "\n",
    "    ##  Function to denormalize continous variables into the real continous variable ##\n",
    "\n",
    "    from sklearn.preprocessing import MinMaxScaler\n",
    "\n",
    "    descaling_input = norm_inst.inverse_transform(norm)\n",
    "    \n",
    "    descaling_input =pd.DataFrame(descaling_input)\n",
    "    descaling_input.index = norm.index\n",
    "    descaling_input.columns = norm.columns.values\n",
    "\n",
    "    return descaling_input"
   ]
  }
 ]
}