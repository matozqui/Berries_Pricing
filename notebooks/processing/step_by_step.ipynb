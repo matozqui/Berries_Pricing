{
 "metadata": {
  "language_info": {
   "codemirror_mode": {
    "name": "ipython",
    "version": 3
   },
   "file_extension": ".py",
   "mimetype": "text/x-python",
   "name": "python",
   "nbconvert_exporter": "python",
   "pygments_lexer": "ipython3",
   "version": "3.8.3-final"
  },
  "orig_nbformat": 2,
  "kernelspec": {
   "name": "python_defaultSpec_1599839757755",
   "display_name": "Python 3.8.3 64-bit"
  }
 },
 "nbformat": 4,
 "nbformat_minor": 2,
 "cells": [
  {
   "cell_type": "code",
   "execution_count": 13,
   "metadata": {},
   "outputs": [],
   "source": [
    "import sys\n",
    "sys.path.insert(0,'../../src')\n",
    "sys.path.append('../../src/d00_utils')\n",
    "sys.path.append('../../src/d01_data')\n",
    "sys.path.append('../../src/d02_processing')\n",
    "sys.path.append('../../src/d03_modelling')\n",
    "import extractions as extract\n",
    "import transformations as transf\n",
    "import training as train\n",
    "import import_data as imp\n",
    "import inference as inf\n",
    "import time  \n",
    "from dateutil.relativedelta import relativedelta\n",
    "from datetime import date\n",
    "import config as conf\n",
    "from statsmodels.tsa.arima_model import ARIMA\n",
    "from statsmodels.tsa.arima_model import ARIMAResults\n",
    "from datetime import datetime, timedelta\n",
    "from sklearn.preprocessing import MinMaxScaler\n",
    "from statsmodels.tsa.statespace.sarimax import SARIMAXResults\n",
    "import pandas as pd\n",
    "import numpy as np\n",
    "import config\n",
    "import pyodbc"
   ]
  },
  {
   "cell_type": "markdown",
   "metadata": {},
   "source": [
    "# Load Prices and Volumes"
   ]
  },
  {
   "cell_type": "code",
   "execution_count": 3,
   "metadata": {
    "tags": []
   },
   "outputs": [
    {
     "output_type": "stream",
     "name": "stdout",
     "text": "6  new prices added\n308  new volumes added\n427  new prices added\n1135  new volumes added\n61  new prices added\n770  new volumes added\n256  new prices added\n410  new volumes added\n"
    }
   ],
   "source": [
    "# SPAIN\n",
    "\n",
    "# Prices\n",
    "price = imp.get_prices_junta()\n",
    "imp.load_prices_bbdd(price)\n",
    "# Volumes\n",
    "imp.load_volumes_bbdd(imp.get_volumes_ibo())\n",
    "\n",
    "# US\n",
    "\n",
    "crops_us = conf.crop_list_usa\n",
    "for i in range(0, len(crops_us)):\n",
    "    crop = crops_us[i][0]\n",
    "    crop_abb = crops_us[i][1]\n",
    "    # Prices\n",
    "    price = imp.get_prices_usda(crop,crop_abb)\n",
    "    imp.load_prices_bbdd(price)\n",
    "    # Volumes\n",
    "    imp.load_volumes_bbdd(imp.get_volumes_usda(crop,crop_abb))"
   ]
  },
  {
   "cell_type": "markdown",
   "metadata": {},
   "source": [
    "# Train models"
   ]
  },
  {
   "cell_type": "code",
   "execution_count": null,
   "metadata": {},
   "outputs": [],
   "source": [
    "crop_list = conf.crop_list_arima\n",
    "crop_list[:0]= (conf.crop_list_sarima)\n",
    "crop_list[:0]= (conf.crop_list_sarimax)\n",
    "\n",
    "for i in range(0, len(crop_list)):\n",
    "\n",
    "    crop = crop_list[i][0]\n",
    "    ctry = crop_list[i][1]\n",
    "    trade_ctry = crop_list[i][2]\n",
    "    ctgr = crop_list[i][3]\n",
    "    mdel = crop_list[i][4]\n",
    "    regn = crop_list[i][5]\n",
    "    pkge = crop_list[i][6]\n",
    "    crcy = crop_list[i][7]\n",
    "    msre = crop_list[i][8]\n",
    "    exog = crop_list[i][9]\n",
    "\n",
    "    # Training\n",
    "\n",
    "    train.train_arima_model(crop,ctry,trade_ctry,ctgr)"
   ]
  },
  {
   "source": [
    "# Save measures"
   ],
   "cell_type": "markdown",
   "metadata": {}
  },
  {
   "cell_type": "code",
   "execution_count": 14,
   "metadata": {},
   "outputs": [
    {
     "output_type": "execute_result",
     "data": {
      "text/plain": "               Concept                  Result          Crop Country  \\\n0       Dep. Variable:                   Price   BLUEBERRIES      US   \n1    No. Observations:                     265   BLUEBERRIES      US   \n2               Model:  SARIMAX(1, 1, [1], 52)   BLUEBERRIES      US   \n3       Log Likelihood                  40.735   BLUEBERRIES      US   \n4                Date:        Fri, 11 Sep 2020   BLUEBERRIES      US   \n..                 ...                     ...           ...     ...   \n220   Covariance Type:                     opg  STRAWBERRIES      ES   \n221                MAE                0.956372  STRAWBERRIES      ES   \n222               MAPE                 0.42153  STRAWBERRIES      ES   \n223                MSE                 1.16902  STRAWBERRIES      ES   \n224               RMSE                 1.08121  STRAWBERRIES      ES   \n\n    Trade_Country    Model Category  Result_num  \n0              MX  SARIMAX      std    0.000000  \n1              MX  SARIMAX      std    0.000000  \n2              MX  SARIMAX      std    0.000000  \n3              MX  SARIMAX      std    0.000000  \n4              MX  SARIMAX      std    0.000000  \n..            ...      ...      ...         ...  \n220            ES    ARIMA      std    0.000000  \n221            ES    ARIMA      std    0.956372  \n222            ES    ARIMA      std    0.421530  \n223            ES    ARIMA      std    1.169017  \n224            ES    ARIMA      std    1.081211  \n\n[225 rows x 8 columns]",
      "text/html": "<div>\n<style scoped>\n    .dataframe tbody tr th:only-of-type {\n        vertical-align: middle;\n    }\n\n    .dataframe tbody tr th {\n        vertical-align: top;\n    }\n\n    .dataframe thead th {\n        text-align: right;\n    }\n</style>\n<table border=\"1\" class=\"dataframe\">\n  <thead>\n    <tr style=\"text-align: right;\">\n      <th></th>\n      <th>Concept</th>\n      <th>Result</th>\n      <th>Crop</th>\n      <th>Country</th>\n      <th>Trade_Country</th>\n      <th>Model</th>\n      <th>Category</th>\n      <th>Result_num</th>\n    </tr>\n  </thead>\n  <tbody>\n    <tr>\n      <th>0</th>\n      <td>Dep. Variable:</td>\n      <td>Price</td>\n      <td>BLUEBERRIES</td>\n      <td>US</td>\n      <td>MX</td>\n      <td>SARIMAX</td>\n      <td>std</td>\n      <td>0.000000</td>\n    </tr>\n    <tr>\n      <th>1</th>\n      <td>No. Observations:</td>\n      <td>265</td>\n      <td>BLUEBERRIES</td>\n      <td>US</td>\n      <td>MX</td>\n      <td>SARIMAX</td>\n      <td>std</td>\n      <td>0.000000</td>\n    </tr>\n    <tr>\n      <th>2</th>\n      <td>Model:</td>\n      <td>SARIMAX(1, 1, [1], 52)</td>\n      <td>BLUEBERRIES</td>\n      <td>US</td>\n      <td>MX</td>\n      <td>SARIMAX</td>\n      <td>std</td>\n      <td>0.000000</td>\n    </tr>\n    <tr>\n      <th>3</th>\n      <td>Log Likelihood</td>\n      <td>40.735</td>\n      <td>BLUEBERRIES</td>\n      <td>US</td>\n      <td>MX</td>\n      <td>SARIMAX</td>\n      <td>std</td>\n      <td>0.000000</td>\n    </tr>\n    <tr>\n      <th>4</th>\n      <td>Date:</td>\n      <td>Fri, 11 Sep 2020</td>\n      <td>BLUEBERRIES</td>\n      <td>US</td>\n      <td>MX</td>\n      <td>SARIMAX</td>\n      <td>std</td>\n      <td>0.000000</td>\n    </tr>\n    <tr>\n      <th>...</th>\n      <td>...</td>\n      <td>...</td>\n      <td>...</td>\n      <td>...</td>\n      <td>...</td>\n      <td>...</td>\n      <td>...</td>\n      <td>...</td>\n    </tr>\n    <tr>\n      <th>220</th>\n      <td>Covariance Type:</td>\n      <td>opg</td>\n      <td>STRAWBERRIES</td>\n      <td>ES</td>\n      <td>ES</td>\n      <td>ARIMA</td>\n      <td>std</td>\n      <td>0.000000</td>\n    </tr>\n    <tr>\n      <th>221</th>\n      <td>MAE</td>\n      <td>0.956372</td>\n      <td>STRAWBERRIES</td>\n      <td>ES</td>\n      <td>ES</td>\n      <td>ARIMA</td>\n      <td>std</td>\n      <td>0.956372</td>\n    </tr>\n    <tr>\n      <th>222</th>\n      <td>MAPE</td>\n      <td>0.42153</td>\n      <td>STRAWBERRIES</td>\n      <td>ES</td>\n      <td>ES</td>\n      <td>ARIMA</td>\n      <td>std</td>\n      <td>0.421530</td>\n    </tr>\n    <tr>\n      <th>223</th>\n      <td>MSE</td>\n      <td>1.16902</td>\n      <td>STRAWBERRIES</td>\n      <td>ES</td>\n      <td>ES</td>\n      <td>ARIMA</td>\n      <td>std</td>\n      <td>1.169017</td>\n    </tr>\n    <tr>\n      <th>224</th>\n      <td>RMSE</td>\n      <td>1.08121</td>\n      <td>STRAWBERRIES</td>\n      <td>ES</td>\n      <td>ES</td>\n      <td>ARIMA</td>\n      <td>std</td>\n      <td>1.081211</td>\n    </tr>\n  </tbody>\n</table>\n<p>225 rows × 8 columns</p>\n</div>"
     },
     "metadata": {},
     "execution_count": 14
    }
   ],
   "source": [
    "df_all_results = pd.DataFrame()\n",
    "\n",
    "crop_list = conf.crop_list_arima\n",
    "crop_list[:0]= (conf.crop_list_sarima)\n",
    "crop_list[:0]= (conf.crop_list_sarimax)\n",
    "\n",
    "df_all_results = train.calculate_measures(crop_list)\n",
    "df_all_results\n",
    "train.load_measures_db(df_all_results)"
   ]
  },
  {
   "cell_type": "markdown",
   "metadata": {},
   "source": [
    "# Inference"
   ]
  },
  {
   "cell_type": "code",
   "execution_count": null,
   "metadata": {},
   "outputs": [],
   "source": [
    "crop_list = conf.crop_list_arima\n",
    "crop_list[:0]= (conf.crop_list_sarima)\n",
    "crop_list[:0]= (conf.crop_list_sarimax)\n",
    "\n",
    "for i in range(0, len(crop_list)):\n",
    "\n",
    "    crop = crop_list[i][0]\n",
    "    ctry = crop_list[i][1]\n",
    "    trade_ctry = crop_list[i][2]\n",
    "    ctgr = crop_list[i][3]\n",
    "    mdel = crop_list[i][4]\n",
    "    regn = crop_list[i][5]\n",
    "    pkge = crop_list[i][6]\n",
    "    crcy = crop_list[i][7]\n",
    "    msre = crop_list[i][8]\n",
    "    exog = crop_list[i][9]\n",
    "\n",
    "    for k in range(2017, 2021):\n",
    "\n",
    "        dt = date(k, 1, 1)\n",
    "        start = str(dt + relativedelta(days=(7 - dt.weekday())))\n",
    "        end = (date.today() + relativedelta(years=1)).strftime('%Y-12-31')\n",
    "        \n",
    "        if mdel == 'SARIMAX':\n",
    "            mdel_vols = 'SARIMA'\n",
    "            df_pred_vols = inf.get_prediction_vols(ctry,crop,trade_ctry,regn,ctgr,pkge,crcy,msre,mdel_vols,start,end)\n",
    "            exog = df_pred_vols[df_pred_vols.Date_ref > date.today().strftime('%Y-01-01')].drop(columns=['Volume']).set_index('Date_ref')\n",
    "\n",
    "        df_pred = inf.get_prediction(ctry,crop,trade_ctry,regn,ctgr,pkge,crcy,msre,mdel,exog,start,end)\n",
    "        inf.load_predictions_db(df_pred,ctry,crop,trade_ctry,regn,ctgr,pkge,crcy,msre,mdel)"
   ]
  }
 ]
}