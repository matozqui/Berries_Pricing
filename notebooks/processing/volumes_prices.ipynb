{
 "metadata": {
  "language_info": {
   "codemirror_mode": {
    "name": "ipython",
    "version": 3
   },
   "file_extension": ".py",
   "mimetype": "text/x-python",
   "name": "python",
   "nbconvert_exporter": "python",
   "pygments_lexer": "ipython3",
   "version": "3.8.3-final"
  },
  "orig_nbformat": 2,
  "kernelspec": {
   "name": "python_defaultSpec_1599067758020",
   "display_name": "Python 3.8.3 64-bit"
  }
 },
 "nbformat": 4,
 "nbformat_minor": 2,
 "cells": [
  {
   "cell_type": "code",
   "execution_count": 7,
   "metadata": {},
   "outputs": [],
   "source": [
    "def get_prices_volumes(ctry,crop,trade_ctry,ctgr):\n",
    "\n",
    "    #   Function to combine prices and volumes in one dataframe #\n",
    "\n",
    "    import sys\n",
    "    sys.path.insert(0, '../../src')\n",
    "    sys.path.append('../../src/d01_data')\n",
    "    sys.path.append('../../src/d02_processing')\n",
    "    sys.path.append('../../src/d03_modelling')\n",
    "\n",
    "    import extractions as extract\n",
    "    import transformations as transf\n",
    "    import training as train\n",
    "    import import_data as imp\n",
    "    import inference as inf\n",
    "    import datetime\n",
    "\n",
    "    df_prices = extract.get_prices(crop, ctry, trade_ctry, ctgr)\n",
    "    df_prices.set_index('Date_price',inplace=True)\n",
    "\n",
    "    df_volumes = extract.get_volumes(crop, ctry, trade_ctry)\n",
    "\n",
    "    df_volumes_prices = df_volumes.join(df_prices,how='outer')\n",
    "    df_volumes_prices.Volume.fillna(value=0, inplace=True)\n",
    "    df_volumes_prices.fillna(method='pad', inplace=True)\n",
    "\n",
    "    # First date with price\n",
    "    first_date = max(df_volumes_prices[(df_volumes_prices.Price).isnull()].index) + datetime.timedelta(days=1)\n",
    "\n",
    "    df_volumes_prices.drop(df_volumes_prices[df_volumes_prices.index < first_date].index, inplace=True)\n",
    "    df_volumes_prices.reset_index(inplace=True)\n",
    "    df_volumes_prices.rename(columns={'index' : 'Date_ref'},errors=\"raise\",inplace=True)\n",
    "\n",
    "    return df_volumes_prices"
   ]
  },
  {
   "cell_type": "code",
   "execution_count": 8,
   "metadata": {},
   "outputs": [],
   "source": [
    "def load_volumes_prices_bbdd(df_volumes_prices):\n",
    "\n",
    "    ##  Function to upload the combination of prices and volumes retrieved from different sources to SQL Server Database   #\n",
    "\n",
    "    import sys\n",
    "    sys.path.insert(0, '../../src')\n",
    "    sys.path.append('../../src/d00_utils')\n",
    "    sys.path.append('../../src/d01_data')\n",
    "    sys.path.append('../../src/d02_processing')\n",
    "    sys.path.append('../../src/d03_modelling')\n",
    "    import transformations as transf\n",
    "    import config\n",
    "    import pandas as pd\n",
    "    from datetime import date, datetime, timedelta\n",
    "    import numpy as np\n",
    "    import pyodbc\n",
    "    import stringing as st\n",
    "\n",
    "    ctry = st.get_comma_values(df_volumes_prices.Country)\n",
    "    crop = st.get_comma_values(df_volumes_prices.Product)\n",
    "    trade_ctry = st.get_comma_values(df_volumes_prices.Trade_Country)\n",
    "    ctgr = st.get_comma_values(df_volumes_prices.Category)\n",
    "\n",
    "    connStr = pyodbc.connect(config.db_con)\n",
    "    cursor = connStr.cursor()\n",
    "\n",
    "    # Setting dates\n",
    "    # Date from\n",
    "    fdate = datetime.today() - timedelta(days=100000)\n",
    "\n",
    "    # Delete all data with price dates greater than the ndays parameter last days from today\n",
    "# Delete all data with price dates greater than the ndays parameter last days from today\n",
    "    qry_delete = f\"DELETE FROM [Prices].[dbo].[volumes_prices] where [Country] = {ctry} and [Product] IN ({crop}) and [Trade_Country] = {trade_ctry} and [Category] = {ctgr} and Date_ref > '{fdate}'\"\n",
    "    cursor.execute(qry_delete)\n",
    "    connStr.commit()\n",
    "\n",
    "    # Load all data with price dates greater than the ndays global parameter last days from today\n",
    "    upd = 0\n",
    "    try:\n",
    "        for index,row in df_volumes_prices.iterrows():\n",
    "            if row['Date_ref'] > fdate: # Python price line date must be greater than the max date in SQL table\n",
    "                cursor.execute(\"INSERT INTO [Prices].[dbo].[volumes_prices]([Product],[Country],[Trade_Country],[Category],[Campaign],[Campaign_wk],[Date_ref],[Currency],[Measure],[Price],[Volume],[Updated]) values (?,?,?,?,?,?,?,?,?,?,?,?)\",row['Product'],row['Country'],row['Trade_Country'],row['Category'],row['Campaign'],'',row['Date_ref'],'USD','KG',row['Price'],row['Volume'],datetime.now().strftime(\"%Y-%m-%d %H:%M:%S\"))\n",
    "                connStr.commit()\n",
    "                upd += 1\n",
    "    except TypeError: # If there price is null no posibility to compare operands\n",
    "        for index,row in df_volumes_prices.iterrows(): # When there are no prices in SQL\n",
    "            cursor.execute(\"INSERT INTO [Prices].[dbo].[volumes_prices]([Product],[Country],[Trade_Country],[Category],[Campaign],[Campaign_wk],[Date_ref],[Currency],[Measure],[Price],[Volume],[Updated]) values (?,?,?,?,?,?,?,?,?,?,?,?)\",row['Product'],row['Country'],row['Trade_Country'],row['Category'],row['Campaign'],'',row['Date_ref'],'USD','KG',row['Price'],row['Volume'],datetime.now().strftime(\"%Y-%m-%d %H:%M:%S\"))\n",
    "            connStr.commit()\n",
    "            upd += 1\n",
    "    cursor.close()\n",
    "    connStr.close()\n",
    "    print(upd,\" new prices added\")"
   ]
  },
  {
   "cell_type": "code",
   "execution_count": 17,
   "metadata": {
    "tags": []
   },
   "outputs": [
    {
     "output_type": "stream",
     "name": "stdout",
     "text": "248  new prices added\n"
    }
   ],
   "source": [
    "ctry = 'US'\n",
    "crop = 'BLUEBERRIES'\n",
    "trade_ctry = 'UY'\n",
    "ctgr = 'lge'\n",
    "\n",
    "load_volumes_prices_bbdd(get_prices_volumes(ctry,crop,trade_ctry,ctgr))"
   ]
  },
  {
   "cell_type": "code",
   "execution_count": null,
   "metadata": {},
   "outputs": [],
   "source": []
  }
 ]
}