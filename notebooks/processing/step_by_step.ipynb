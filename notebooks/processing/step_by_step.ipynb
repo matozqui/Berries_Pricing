{
 "metadata": {
  "language_info": {
   "codemirror_mode": {
    "name": "ipython",
    "version": 3
   },
   "file_extension": ".py",
   "mimetype": "text/x-python",
   "name": "python",
   "nbconvert_exporter": "python",
   "pygments_lexer": "ipython3",
   "version": "3.8.3-final"
  },
  "orig_nbformat": 2,
  "kernelspec": {
   "name": "python_defaultSpec_1599676997257",
   "display_name": "Python 3.8.3 64-bit"
  }
 },
 "nbformat": 4,
 "nbformat_minor": 2,
 "cells": [
  {
   "cell_type": "code",
   "execution_count": 1,
   "metadata": {},
   "outputs": [],
   "source": [
    "import sys\n",
    "sys.path.insert(0, '../../src')\n",
    "sys.path.append('../../src/d00_utils')\n",
    "sys.path.append('../../src/d01_data')\n",
    "sys.path.append('../../src/d02_processing')\n",
    "sys.path.append('../../src/d03_modelling')\n",
    "import extractions as extract\n",
    "import transformations as transf\n",
    "import training as train\n",
    "import import_data as imp\n",
    "import inference as inf\n",
    "import time  \n",
    "from dateutil.relativedelta import relativedelta\n",
    "from datetime import date\n",
    "import config as conf\n",
    "from statsmodels.tsa.arima_model import ARIMA\n",
    "from statsmodels.tsa.arima_model import ARIMAResults\n",
    "from datetime import datetime, timedelta\n",
    "from sklearn.preprocessing import MinMaxScaler\n",
    "from statsmodels.tsa.statespace.sarimax import SARIMAXResults"
   ]
  },
  {
   "cell_type": "markdown",
   "metadata": {},
   "source": [
    "# Load Prices and Volumes"
   ]
  },
  {
   "cell_type": "code",
   "execution_count": 3,
   "metadata": {
    "tags": []
   },
   "outputs": [
    {
     "output_type": "stream",
     "name": "stdout",
     "text": "6  new prices added\n308  new volumes added\n427  new prices added\n1135  new volumes added\n61  new prices added\n770  new volumes added\n256  new prices added\n410  new volumes added\n"
    }
   ],
   "source": [
    "# SPAIN\n",
    "\n",
    "# Prices\n",
    "price = imp.get_prices_junta()\n",
    "imp.load_prices_bbdd(price)\n",
    "# Volumes\n",
    "imp.load_volumes_bbdd(imp.get_volumes_ibo())\n",
    "\n",
    "# US\n",
    "\n",
    "crops_us = conf.crop_list_usa\n",
    "for i in range(0, len(crops_us)):\n",
    "    crop = crops_us[i][0]\n",
    "    crop_abb = crops_us[i][1]\n",
    "    # Prices\n",
    "    price = imp.get_prices_usda(crop,crop_abb)\n",
    "    imp.load_prices_bbdd(price)\n",
    "    # Volumes\n",
    "    imp.load_volumes_bbdd(imp.get_volumes_usda(crop,crop_abb))"
   ]
  },
  {
   "cell_type": "markdown",
   "metadata": {},
   "source": [
    "# Train models"
   ]
  },
  {
   "cell_type": "code",
   "execution_count": null,
   "metadata": {},
   "outputs": [],
   "source": [
    "crop_list = conf.crop_list_arima\n",
    "crop_list[:0]= (conf.crop_list_sarima)\n",
    "crop_list[:0]= (conf.crop_list_sarimax)\n",
    "\n",
    "for i in range(0, len(crop_list)):\n",
    "\n",
    "    crop = crop_list[i][0]\n",
    "    ctry = crop_list[i][1]\n",
    "    trade_ctry = crop_list[i][2]\n",
    "    ctgr = crop_list[i][3]\n",
    "    mdel = crop_list[i][4]\n",
    "    regn = crop_list[i][5]\n",
    "    pkge = crop_list[i][6]\n",
    "    crcy = crop_list[i][7]\n",
    "    msre = crop_list[i][8]\n",
    "    exog = crop_list[i][9]\n",
    "\n",
    "    # Training\n",
    "\n",
    "    train.train_arima_model(crop,ctry,trade_ctry,ctgr)"
   ]
  },
  {
   "cell_type": "markdown",
   "metadata": {},
   "source": [
    "# Inference"
   ]
  },
  {
   "cell_type": "code",
   "execution_count": null,
   "metadata": {},
   "outputs": [],
   "source": [
    "crop_list = conf.crop_list_arima\n",
    "crop_list[:0]= (conf.crop_list_sarima)\n",
    "crop_list[:0]= (conf.crop_list_sarimax)\n",
    "\n",
    "for i in range(0, len(crop_list)):\n",
    "\n",
    "    crop = crop_list[i][0]\n",
    "    ctry = crop_list[i][1]\n",
    "    trade_ctry = crop_list[i][2]\n",
    "    ctgr = crop_list[i][3]\n",
    "    mdel = crop_list[i][4]\n",
    "    regn = crop_list[i][5]\n",
    "    pkge = crop_list[i][6]\n",
    "    crcy = crop_list[i][7]\n",
    "    msre = crop_list[i][8]\n",
    "    exog = crop_list[i][9]\n",
    "\n",
    "    for k in range(2017, 2021):\n",
    "\n",
    "        dt = date(k, 1, 1)\n",
    "        start = str(dt + relativedelta(days=(7 - dt.weekday())))\n",
    "        end = (date.today() + relativedelta(years=1)).strftime('%Y-12-31')\n",
    "        \n",
    "        if mdel == 'SARIMAX':\n",
    "            mdel_vols = 'SARIMA'\n",
    "            df_pred_vols = inf.get_prediction_vols(ctry,crop,trade_ctry,regn,ctgr,pkge,crcy,msre,mdel_vols,start,end)\n",
    "            exog = df_pred_vols[df_pred_vols.Date_ref > date.today().strftime('%Y-01-01')].drop(columns=['Volume']).set_index('Date_ref')\n",
    "\n",
    "        df_pred = inf.get_prediction(ctry,crop,trade_ctry,regn,ctgr,pkge,crcy,msre,mdel,exog,start,end)\n",
    "        inf.load_predictions_db(df_pred,ctry,crop,trade_ctry,regn,ctgr,pkge,crcy,msre,mdel)"
   ]
  }
 ]
}