{
 "cells": [
  {
   "cell_type": "code",
   "execution_count": 2,
   "metadata": {
    "tags": []
   },
   "outputs": [
    {
     "output_type": "stream",
     "name": "stdout",
     "text": "ARIMA(0, 0, 0) MAE=1009712.261 RMSE=1218452.254 BIAS=-1009712.261\nARIMA(0, 0, 1) MAE=565447.178 RMSE=696194.999 BIAS=-537445.588\nARIMA(0, 0, 2) MAE=371881.201 RMSE=483340.892 BIAS=-335741.119\nARIMA(0, 0, 3) MAE=287639.567 RMSE=387933.412 BIAS=-239221.583\nARIMA(0, 0, 4) MAE=253626.024 RMSE=342246.476 BIAS=-196719.204\nARIMA(0, 1, 0) MAE=162558.123 RMSE=224783.473 BIAS=-5083.363\nARIMA(0, 1, 1) MAE=161865.402 RMSE=226409.597 BIAS=-4138.994\nARIMA(0, 1, 2) MAE=160847.444 RMSE=225230.441 BIAS=-3404.560\nARIMA(0, 1, 3) MAE=160405.165 RMSE=225091.534 BIAS=-3145.737\nARIMA(0, 1, 4) MAE=157048.160 RMSE=222513.370 BIAS=-3027.821\nARIMA(0, 2, 0) MAE=209309.417 RMSE=310746.563 BIAS=0.000\nARIMA(0, 2, 1) MAE=162532.824 RMSE=228651.086 BIAS=5854.189\nARIMA(0, 2, 2) MAE=161925.097 RMSE=226577.763 BIAS=-2925.037\nARIMA(0, 2, 3) MAE=160879.164 RMSE=225386.499 BIAS=-2277.287\nARIMA(0, 2, 4) MAE=160447.995 RMSE=225258.229 BIAS=-2128.853\nARIMA(0, 3, 0) MAE=374948.831 RMSE=548923.672 BIAS=1438.982\nARIMA(0, 3, 1) MAE=209486.306 RMSE=311006.704 BIAS=7.746\nARIMA(0, 3, 2) MAE=163680.158 RMSE=229365.173 BIAS=4114.776\nARIMA(0, 3, 3) MAE=162445.804 RMSE=227179.554 BIAS=-1651.593\nARIMA(0, 3, 4) MAE=161415.559 RMSE=225990.515 BIAS=-1239.805\nARIMA(0, 4, 0) MAE=684955.742 RMSE=1015245.536 BIAS=1720.522\nARIMA(0, 4, 1) MAE=375264.679 RMSE=549374.771 BIAS=1441.858\nARIMA(0, 4, 2) MAE=211639.853 RMSE=314794.893 BIAS=595.041\nARIMA(0, 4, 3) MAE=169279.668 RMSE=231831.757 BIAS=-1957.690\nARIMA(0, 4, 4) MAE=168876.251 RMSE=234131.281 BIAS=-1532.084\nARIMA(1, 0, 0) MAE=163258.214 RMSE=225098.172 BIAS=-23228.716\nARIMA(1, 0, 1) MAE=162452.795 RMSE=226660.636 BIAS=-25616.893\nARIMA(1, 0, 2) MAE=161948.222 RMSE=225307.096 BIAS=-26730.224\nARIMA(1, 0, 3) MAE=161085.818 RMSE=225077.697 BIAS=-28907.017\nARIMA(1, 0, 4) MAE=158061.327 RMSE=221957.567 BIAS=-33003.650\nARIMA(1, 1, 0) MAE=160924.521 RMSE=226632.916 BIAS=-3575.257\nARIMA(1, 1, 1) MAE=159494.017 RMSE=224518.485 BIAS=-2753.951\nARIMA(1, 1, 2) MAE=159155.663 RMSE=223692.105 BIAS=-2564.282\nARIMA(1, 1, 3) MAE=160226.823 RMSE=224352.567 BIAS=-3463.362\nARIMA(1, 1, 4) MAE=159350.270 RMSE=223654.873 BIAS=-5229.037\nARIMA(1, 2, 0) MAE=180332.112 RMSE=259783.950 BIAS=-455.119\nARIMA(1, 2, 1) MAE=161021.643 RMSE=226813.182 BIAS=-2459.292\nARIMA(1, 2, 2) MAE=160684.134 RMSE=226381.871 BIAS=-2567.893\nARIMA(1, 2, 3) MAE=160015.004 RMSE=226135.238 BIAS=-1400.638\nARIMA(1, 2, 4) MAE=160396.789 RMSE=225652.464 BIAS=-2544.810\nARIMA(1, 3, 0) MAE=271161.050 RMSE=390453.496 BIAS=1041.452\nARIMA(1, 3, 1) MAE=180497.759 RMSE=260018.069 BIAS=-446.923\nARIMA(1, 3, 2) MAE=161659.442 RMSE=227475.591 BIAS=-1987.029\nARIMA(1, 3, 3) MAE=164251.710 RMSE=229623.611 BIAS=3587.743\nARIMA(1, 3, 4) MAE=3419485838.774 RMSE=58228196088.091 BIAS=-3419232334.857\nARIMA(1, 4, 0) MAE=435348.389 RMSE=638681.296 BIAS=1388.791\nARIMA(1, 4, 1) MAE=271398.761 RMSE=390780.095 BIAS=1044.601\nARIMA(1, 4, 2) MAE=184266.453 RMSE=266626.942 BIAS=-1718.571\nARIMA(1, 4, 4) MAE=166915.354 RMSE=231109.779 BIAS=1281.564\nARIMA(2, 0, 0) MAE=161732.126 RMSE=226931.607 BIAS=-27383.713\nARIMA(2, 0, 1) MAE=160603.769 RMSE=225126.128 BIAS=-30746.665\nARIMA(2, 0, 2) MAE=160214.840 RMSE=223081.694 BIAS=-31894.486\nARIMA(2, 0, 3) MAE=159690.758 RMSE=223029.935 BIAS=-33379.443\nARIMA(2, 0, 4) MAE=158266.121 RMSE=221964.674 BIAS=-33598.694\nARIMA(2, 1, 0) MAE=159864.572 RMSE=224402.813 BIAS=-2855.940\nARIMA(2, 1, 1) MAE=159091.672 RMSE=223903.644 BIAS=-4966.864\nARIMA(2, 1, 2) MAE=161585.068 RMSE=220855.618 BIAS=-558.677\nARIMA(2, 1, 3) MAE=162011.837 RMSE=222004.292 BIAS=-2725.605\nARIMA(2, 1, 4) MAE=161656.954 RMSE=222065.896 BIAS=-5735.744\nARIMA(2, 2, 0) MAE=173875.870 RMSE=247399.695 BIAS=-839.823\nARIMA(2, 2, 1) MAE=159911.556 RMSE=224567.572 BIAS=-1832.555\nARIMA(2, 2, 2) MAE=160587.380 RMSE=225364.800 BIAS=-1101.603\nARIMA(2, 3, 0) MAE=238294.149 RMSE=340040.655 BIAS=771.321\nARIMA(2, 3, 1) MAE=174032.575 RMSE=247642.626 BIAS=-831.932\nARIMA(2, 3, 2) MAE=160468.370 RMSE=225173.159 BIAS=-1279.556\nARIMA(2, 3, 3) MAE=161402.698 RMSE=227834.738 BIAS=-1723.102\nARIMA(2, 3, 4) MAE=165026.491 RMSE=229401.570 BIAS=5046.169\nARIMA(2, 4, 0) MAE=365898.602 RMSE=518846.007 BIAS=2298.733\nARIMA(2, 4, 1) MAE=238536.629 RMSE=340402.685 BIAS=775.382\nARIMA(2, 4, 2) MAE=174692.007 RMSE=248462.131 BIAS=-795.049\nARIMA(3, 0, 0) MAE=160816.303 RMSE=224314.386 BIAS=-29705.424\nARIMA(3, 0, 1) MAE=160483.932 RMSE=223585.733 BIAS=-30614.843\nARIMA(3, 0, 2) MAE=158954.974 RMSE=219059.254 BIAS=-26938.000\nARIMA(3, 0, 3) MAE=162431.954 RMSE=223084.194 BIAS=-26337.593\nARIMA(3, 0, 4) MAE=162409.188 RMSE=223784.341 BIAS=-29051.602\nARIMA(3, 1, 0) MAE=159736.197 RMSE=224216.318 BIAS=-2711.985\nARIMA(3, 1, 1) MAE=159850.801 RMSE=224384.368 BIAS=-2662.278\nARIMA(3, 1, 2) MAE=159974.900 RMSE=224049.871 BIAS=-6179.995\nARIMA(3, 1, 3) MAE=162721.654 RMSE=223183.448 BIAS=-3303.881\nARIMA(3, 1, 4) MAE=162375.462 RMSE=222498.644 BIAS=-5015.207\nARIMA(3, 2, 0) MAE=169006.523 RMSE=240260.800 BIAS=-990.341\nARIMA(3, 2, 1) MAE=159766.710 RMSE=224382.622 BIAS=-1772.248\nARIMA(3, 2, 2) MAE=160635.948 RMSE=225568.791 BIAS=-2028.823\nARIMA(3, 2, 3) MAE=166201.571 RMSE=229205.990 BIAS=-1823.657\nARIMA(3, 2, 4) MAE=163394.273 RMSE=227197.901 BIAS=-2575.645\nARIMA(3, 3, 0) MAE=215491.838 RMSE=303503.610 BIAS=-313.799\nARIMA(3, 3, 1) MAE=169177.536 RMSE=240533.231 BIAS=-977.835\nARIMA(3, 3, 2) MAE=165233.814 RMSE=231760.083 BIAS=-847.233\nARIMA(3, 3, 3) MAE=161079.269 RMSE=226573.181 BIAS=-5815.707\nARIMA(3, 3, 4) MAE=162847.204 RMSE=228396.552 BIAS=-1459.980\nARIMA(3, 4, 0) MAE=304890.523 RMSE=442193.854 BIAS=2333.150\nARIMA(3, 4, 1) MAE=215793.778 RMSE=303918.994 BIAS=-306.193\nARIMA(3, 4, 2) MAE=169755.072 RMSE=241355.020 BIAS=-954.192\nARIMA(3, 4, 3) MAE=175952.942 RMSE=247879.215 BIAS=178.019\nARIMA(4, 0, 0) MAE=160701.002 RMSE=223795.984 BIAS=-32792.278\nARIMA(4, 0, 1) MAE=160751.719 RMSE=223792.465 BIAS=-32937.334\nARIMA(4, 0, 2) MAE=160091.869 RMSE=222638.179 BIAS=-27395.515\nARIMA(4, 0, 3) MAE=163936.318 RMSE=224269.931 BIAS=-25492.188\nARIMA(4, 0, 4) MAE=162797.257 RMSE=223861.168 BIAS=-27700.202\nARIMA(4, 1, 0) MAE=160261.467 RMSE=224997.242 BIAS=-2319.028\nARIMA(4, 1, 1) MAE=160913.833 RMSE=223237.562 BIAS=-8925.447\nARIMA(4, 1, 2) MAE=161248.770 RMSE=223013.529 BIAS=-4234.844\nARIMA(4, 1, 3) MAE=160743.310 RMSE=221187.206 BIAS=-10284.027\nARIMA(4, 1, 4) MAE=167159.282 RMSE=222645.393 BIAS=-3931.444\nARIMA(4, 2, 0) MAE=169880.132 RMSE=239907.066 BIAS=-1095.272\nARIMA(4, 2, 1) MAE=160240.806 RMSE=225118.720 BIAS=-1363.578\nARIMA(4, 2, 2) MAE=160026.796 RMSE=225319.125 BIAS=-1691.127\nARIMA(4, 3, 0) MAE=199360.787 RMSE=281601.873 BIAS=-656.091\nARIMA(4, 3, 1) MAE=170013.942 RMSE=240161.948 BIAS=-1086.695\nARIMA(4, 3, 2) MAE=171226.433 RMSE=242333.412 BIAS=-2131.104\nARIMA(4, 3, 4) MAE=161825.325 RMSE=227025.867 BIAS=-3003.239\nARIMA(4, 4, 0) MAE=274877.386 RMSE=381115.567 BIAS=1760.786\nARIMA(4, 4, 1) MAE=199645.406 RMSE=281938.789 BIAS=-648.528\nARIMA(4, 4, 2) MAE=171921.912 RMSE=243307.187 BIAS=-2232.283\nARIMA(4, 4, 3) MAE=172178.418 RMSE=243565.020 BIAS=-1426.092\nARIMA(4, 4, 4) MAE=174689.026 RMSE=249503.198 BIAS=-917.995\nARIMA(5, 0, 0) MAE=160698.933 RMSE=223883.056 BIAS=-32672.414\nARIMA(5, 0, 1) MAE=161428.325 RMSE=223616.021 BIAS=-31477.774\nARIMA(5, 0, 2) MAE=161994.458 RMSE=226009.766 BIAS=-29521.018\n"
    }
   ],
   "source": [
    "crop_list = [['RASPBERRIES','US','MX','std','SARIMAX','','','USD','KG',None],\\\n",
    "        ['STRAWBERRIES','US','MX','med','SARIMAX','','','USD','KG',None]]\n",
    "\n",
    "for i in range(0, len(crop_list)):\n",
    "\n",
    "    crop = crop_list[i]\n",
    "    import sys\n",
    "    sys.path.insert(0, '../../src')\n",
    "    #   https://realpython.com/python-modules-packages/\n",
    "    sys.path.append('../../src/d01_data')\n",
    "    sys.path.append('../../src/d02_processing')\n",
    "    sys.path.append('../../src/d03_modelling')\n",
    "\n",
    "    import extractions as extract\n",
    "    import transformations as transf\n",
    "    import training as train\n",
    "    import import_data as imp\n",
    "    import inference as inf\n",
    "    import time  \n",
    "    from dateutil.relativedelta import relativedelta\n",
    "    from datetime import date\n",
    "\n",
    "\n",
    "    ####################  Train ARIMA volume  ####################\n",
    "\n",
    "    # Training\n",
    "\n",
    "    startp = time.time()\n",
    "\n",
    "    crop = crop_list[i][0]\n",
    "    ctry = crop_list[i][1]\n",
    "    trade_ctry = crop_list[i][2]\n",
    "    ctgr = crop_list[i][3]\n",
    "    mdel = crop_list[i][4]\n",
    "    regn = crop_list[i][5]\n",
    "    pkge = crop_list[i][6]\n",
    "    crcy = crop_list[i][7]\n",
    "    msre = crop_list[i][8]\n",
    "    exog = crop_list[i][9]\n",
    "\n",
    "    #train.\n",
    "    train.train_sarima_model_vols(crop,ctry,trade_ctry,ctgr)\n",
    "\n",
    "    #################### Inference volumes ####################\n",
    "\n",
    "    # Inference\n",
    "\n",
    "    start = date.today().strftime('%Y-01-01')\n",
    "    end = (date.today() + relativedelta(years=1)).strftime('%Y-12-31')\n",
    "\n",
    "    mdel_vols = 'SARIMA'\n",
    "    df_pred_vols = inf.get_prediction_vols(ctry,crop,trade_ctry,regn,ctgr,pkge,crcy,msre,mdel_vols,start,end)\n",
    "    #inf.load_predictions_db(df_pred,ctry,crop,trade_ctry,regn,ctgr,pkge,crcy,msre,mdel)\n",
    "\n",
    "    #################### Inference SARIMAX price (including SARIMA volumes)  ####################\n",
    "\n",
    "    # Inference\n",
    "\n",
    "    exog = df_pred_vols[df_pred_vols.Date_ref > date.today().strftime('%Y-01-01')].drop(columns=['Volume']).set_index('Date_ref')\n",
    "\n",
    "    df_pred = inf.get_prediction(ctry,crop,trade_ctry,regn,ctgr,pkge,crcy,msre,mdel,exog,start,end)\n",
    "    inf.load_predictions_db(df_pred,ctry,crop,trade_ctry,regn,ctgr,pkge,crcy,msre,mdel)\n",
    "\n",
    "    endp = time.time()\n",
    "    duration = endp - startp\n",
    "    minutes = duration // 60\n",
    "    seconds = duration - (minutes * 60)\n",
    "    print(f\"{minutes} minutes and {seconds} seconds\")"
   ]
  },
  {
   "cell_type": "code",
   "execution_count": null,
   "metadata": {},
   "outputs": [],
   "source": []
  }
 ],
 "metadata": {
  "kernelspec": {
   "display_name": "Python 3.8.3 64-bit",
   "language": "python",
   "name": "python38364bit5c446d3ae10d4c4b9ddac51de7b948b5"
  },
  "language_info": {
   "codemirror_mode": {
    "name": "ipython",
    "version": 3
   },
   "file_extension": ".py",
   "mimetype": "text/x-python",
   "name": "python",
   "nbconvert_exporter": "python",
   "pygments_lexer": "ipython3",
   "version": "3.8.3-final"
  }
 },
 "nbformat": 4,
 "nbformat_minor": 2
}