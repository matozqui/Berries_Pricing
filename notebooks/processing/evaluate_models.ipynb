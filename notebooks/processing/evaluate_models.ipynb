{
 "cells": [
  {
   "cell_type": "markdown",
   "metadata": {},
   "source": [
    "# Modeling"
   ]
  },
  {
   "cell_type": "code",
   "execution_count": 45,
   "metadata": {
    "tags": []
   },
   "outputs": [
    {
     "output_type": "stream",
     "name": "stdout",
     "text": "No model found\nNo model found\nNo model found\nNo model found\n"
    }
   ],
   "source": [
    "import sys\n",
    "sys.path.insert(0, '../../src')\n",
    "#   https://realpython.com/python-modules-packages/\n",
    "sys.path.append('../../src/d00_utils')\n",
    "sys.path.append('../../src/d01_data')\n",
    "sys.path.append('../../src/d02_processing')\n",
    "sys.path.append('../../src/d03_modelling')\n",
    "import extractions as extract\n",
    "import transformations as transf\n",
    "import training as train\n",
    "import import_data as imp\n",
    "import inference as inf\n",
    "import time  \n",
    "from dateutil.relativedelta import relativedelta\n",
    "from datetime import date\n",
    "import config as conf\n",
    "from statsmodels.tsa.arima_model import ARIMA\n",
    "from statsmodels.tsa.arima_model import ARIMAResults\n",
    "from datetime import datetime, timedelta\n",
    "from sklearn.preprocessing import MinMaxScaler\n",
    "from statsmodels.tsa.statespace.sarimax import SARIMAXResults\n",
    "\n",
    "df_all_results = pd.DataFrame()\n",
    "crop_list = conf.crop_list_sarima\n",
    "\n",
    "for i in range(0, len(crop_list)):\n",
    "\n",
    "    for m in ['ARIMA','SARIMA','SARIMAX']:\n",
    "\n",
    "        crop = crop_list[i]\n",
    "\n",
    "        ####################  Train ARIMA volume  ####################\n",
    "\n",
    "        # Training\n",
    "\n",
    "        crop = crop_list[i][0]\n",
    "        ctry = crop_list[i][1]\n",
    "        tctr = crop_list[i][2]\n",
    "        ctgr = crop_list[i][3]\n",
    "        regn = crop_list[i][5]\n",
    "        pkge = crop_list[i][6]\n",
    "        crcy = crop_list[i][7]\n",
    "        msre = crop_list[i][8]\n",
    "        exog = crop_list[i][9]\n",
    "        \n",
    "        mdel = m\n",
    "\n",
    "        #ctry = 'US'\n",
    "        #crop = 'BLUEBERRIES'\n",
    "        #mdel = 'ARIMA'\n",
    "        #tctr = 'MX'\n",
    "        #ctgr = 'std'\n",
    "\n",
    "        ctry_lc = ctry.lower()\n",
    "        crop_lc = crop.lower()\n",
    "        mdel_lc = mdel.lower()\n",
    "        tctr_lc = tctr.lower()\n",
    "        ctgr_lc = ctgr.lower()\n",
    "\n",
    "        model_name = f'../../data/04_models/model_{mdel_lc}_{crop_lc}_{ctry_lc}_{tctr_lc}_{ctgr_lc}.pkl'\n",
    "\n",
    "        try:\n",
    "            ld_model = ARIMAResults.load(model_name)\n",
    "        except FileNotFoundError:\n",
    "            print('No model found')\n",
    "            break\n",
    "\n",
    "\n",
    "        import statsmodels.api as sm\n",
    "        import pandas as pd\n",
    "\n",
    "        results_summary = ld_model.summary()\n",
    "\n",
    "        # Note that tables is a list. The table at index 1 is the \"core\" table. Additionally, read_html puts dfs in a list, so we want index 0\n",
    "        results_as_html = results_summary.tables[0].as_html()\n",
    "        df_results_int = pd.read_html(results_as_html, index_col=0)[0]\n",
    "        df_results_int['Crop'] = crop\n",
    "        df_results_int['Country'] = ctry\n",
    "        df_results_int['Trade_Country']  = tctr\n",
    "        df_results_int['Model'] = mdel\n",
    "        df_results_int['Category']  = ctgr\n",
    "        df_results = df_results_int.reset_index().iloc[:, 0:2].rename(columns={0: \"Concept\", 1: \"Result\"})\n",
    "        df_results = df_results.append(df_results_int.reset_index().iloc[:, 2:4].rename(columns={2: \"Concept\", 3: \"Result\"})).dropna()\n",
    "        df_results = df_results.join(df_results_int.reset_index().iloc[:, 4:])\n",
    "\n",
    "        df_all_results = df_all_results.append(df_results)\n",
    "\n",
    "df_all_results.to_excel('../../data/04_models/results_summary.xlsx')"
   ]
  },
  {
   "cell_type": "code",
   "execution_count": null,
   "metadata": {},
   "outputs": [],
   "source": []
  }
 ],
 "metadata": {
  "kernelspec": {
   "display_name": "Python 3.8.3 64-bit",
   "language": "python",
   "name": "python38364bit5c446d3ae10d4c4b9ddac51de7b948b5"
  },
  "language_info": {
   "codemirror_mode": {
    "name": "ipython",
    "version": 3
   },
   "file_extension": ".py",
   "mimetype": "text/x-python",
   "name": "python",
   "nbconvert_exporter": "python",
   "pygments_lexer": "ipython3",
   "version": "3.8.3-final"
  }
 },
 "nbformat": 4,
 "nbformat_minor": 2
}