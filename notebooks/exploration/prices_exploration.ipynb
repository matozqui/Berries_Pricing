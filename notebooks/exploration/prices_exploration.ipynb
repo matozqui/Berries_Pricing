{
 "cells": [
  {
   "cell_type": "markdown",
   "metadata": {},
   "source": [
    "## Prices exploration"
   ]
  },
  {
   "cell_type": "code",
   "execution_count": 1,
   "metadata": {
    "tags": []
   },
   "outputs": [
    {
     "output_type": "stream",
     "name": "stdout",
     "text": "BLUEBERRIES_US_MX_std\nCorrelations between campaigns 2017 and 2018: 0.2910715055660707\nCorrelations between campaigns 2018 and 2019: 0.4419987954438091\nCorrelations between campaigns 2019 and 2020: 0.35881556747743104\nRASPBERRIES_US_MX_std\nCorrelations between campaigns 2017 and 2018: 0.8055163834998883\nCorrelations between campaigns 2018 and 2019: 0.1824824365207478\nCorrelations between campaigns 2019 and 2020: -0.5564366573792663\nSTRAWBERRIES_US_MX_med\nCorrelations between campaigns 2017 and 2018: 0.30690034631789537\nCorrelations between campaigns 2018 and 2019: 0.6153719400606437\nCorrelations between campaigns 2019 and 2020: 0.40033826677071016\nBLUEBERRIES_ES_ES_std\nCorrelations between campaigns 2017 and 2018: 0.9376890060190678\nCorrelations between campaigns 2018 and 2019: 0.9601055650746388\nCorrelations between campaigns 2019 and 2020: 0.9115283491861004\nRASPBERRIES_ES_ES_std\nCorrelations between campaigns 2017 and 2018: 0.8414587707548656\nCorrelations between campaigns 2018 and 2019: 0.5656207174790439\nCorrelations between campaigns 2019 and 2020: 0.3885039116875029\nSTRAWBERRIES_ES_ES_std\nCorrelations between campaigns 2017 and 2018: 0.8159670463916091\nCorrelations between campaigns 2018 and 2019: 0.9205206567546913\nCorrelations between campaigns 2019 and 2020: 0.9620447140285412\n"
    }
   ],
   "source": [
    "import sys\n",
    "sys.path.insert(0, '../../src')\n",
    "#   https://realpython.com/python-modules-packages/\n",
    "sys.path.append('../../src/d00_utils')\n",
    "sys.path.append('../../src/d01_data')\n",
    "sys.path.append('../../src/d02_processing')\n",
    "sys.path.append('../../src/d03_modelling')\n",
    "import extractions as extract\n",
    "import transformations as transf\n",
    "import training as train\n",
    "import import_data as imp\n",
    "import inference as inf\n",
    "import time  \n",
    "from dateutil.relativedelta import relativedelta\n",
    "from datetime import date\n",
    "import config as conf\n",
    "import pandas as pd\n",
    "from statsmodels.tsa.stattools import acf\n",
    "from statsmodels.graphics.tsaplots import plot_acf\n",
    "from statsmodels.tsa.stattools import pacf\n",
    "from statsmodels.graphics.tsaplots import plot_pacf\n",
    "\n",
    "crop_list = conf.crop_list_arima\n",
    "df_prices = pd.DataFrame()\n",
    "\n",
    "for i in range(0, len(crop_list)):\n",
    "    \n",
    "    crop = crop_list[i][0]\n",
    "    ctry = crop_list[i][1]\n",
    "    trade_ctry = crop_list[i][2]\n",
    "    ctgr = crop_list[i][3]\n",
    "    mdel = crop_list[i][4]\n",
    "    regn = crop_list[i][5]\n",
    "    pkge = crop_list[i][6]\n",
    "    crcy = crop_list[i][7]\n",
    "    msre = crop_list[i][8]\n",
    "    exog = crop_list[i][9]\n",
    "\n",
    "    app = extract.get_prices(crop,ctry,trade_ctry,ctgr)\n",
    "    app['ID'] = i+1\n",
    "    df_prices = df_prices.append(app)\n",
    "\n",
    "for i in range(1,len(crop_list)+1):\n",
    "\n",
    "    id = i\n",
    "    crop = conf.crop_list_arima[id-1]\n",
    "    desc = conf.crop_list_arima[id-1]\n",
    "    desc = [str(i) for i in crop[:-6]]\n",
    "    desc = (\"_\".join(desc))\n",
    "    print(desc)\n",
    "\n",
    "    df_prices_call = df_prices[df_prices.ID == id][['Date_price', 'Price']]\n",
    "    df_prices_call.set_index('Date_price',inplace=True)\n",
    "    df_prices_call.sort_index(inplace=True)\n",
    "    df_prices_call.index = df_prices_call.index.astype('datetime64[ns]') \n",
    "    df_prices_call = df_prices_call.resample('W').mean().asfreq('W')\n",
    "    rows_null = df_prices_call.isnull()\n",
    "    idx_null = rows_null[rows_null.any(axis=1)].index\n",
    "    df_prices_full = df_prices_call.interpolate()\n",
    "\n",
    "    extract.get_plotting_analysis(df_prices_call, df_prices_full, desc)"
   ]
  },
  {
   "cell_type": "code",
   "execution_count": null,
   "metadata": {},
   "outputs": [],
   "source": []
  }
 ],
 "metadata": {
  "kernelspec": {
   "display_name": "Python 3.8.3 64-bit",
   "language": "python",
   "name": "python38364bit5c446d3ae10d4c4b9ddac51de7b948b5"
  },
  "language_info": {
   "codemirror_mode": {
    "name": "ipython",
    "version": 3
   },
   "file_extension": ".py",
   "mimetype": "text/x-python",
   "name": "python",
   "nbconvert_exporter": "python",
   "pygments_lexer": "ipython3",
   "version": "3.8.3-final"
  }
 },
 "nbformat": 4,
 "nbformat_minor": 2
}