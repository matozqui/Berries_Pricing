{
 "cells": [
  {
   "cell_type": "code",
   "execution_count": 1,
   "metadata": {
    "tags": []
   },
   "outputs": [
    {
     "output_type": "stream",
     "name": "stdout",
     "text": "No model found\n"
    },
    {
     "output_type": "error",
     "ename": "AttributeError",
     "evalue": "'NoneType' object has no attribute 'Price_estimated'",
     "traceback": [
      "\u001b[1;31m---------------------------------------------------------------------------\u001b[0m",
      "\u001b[1;31mAttributeError\u001b[0m                            Traceback (most recent call last)",
      "\u001b[1;32m<ipython-input-1-bb763807385b>\u001b[0m in \u001b[0;36m<module>\u001b[1;34m\u001b[0m\n\u001b[0;32m     60\u001b[0m \u001b[1;33m\u001b[0m\u001b[0m\n\u001b[0;32m     61\u001b[0m     \u001b[0mdf_pred\u001b[0m \u001b[1;33m=\u001b[0m \u001b[0minf\u001b[0m\u001b[1;33m.\u001b[0m\u001b[0mget_prediction\u001b[0m\u001b[1;33m(\u001b[0m\u001b[0mctry\u001b[0m\u001b[1;33m,\u001b[0m\u001b[0mcrop\u001b[0m\u001b[1;33m,\u001b[0m\u001b[0mtrade_ctry\u001b[0m\u001b[1;33m,\u001b[0m\u001b[0mregn\u001b[0m\u001b[1;33m,\u001b[0m\u001b[0mctgr\u001b[0m\u001b[1;33m,\u001b[0m\u001b[0mpkge\u001b[0m\u001b[1;33m,\u001b[0m\u001b[0mcrcy\u001b[0m\u001b[1;33m,\u001b[0m\u001b[0mmsre\u001b[0m\u001b[1;33m,\u001b[0m\u001b[0mmdel\u001b[0m\u001b[1;33m,\u001b[0m\u001b[0mexog\u001b[0m\u001b[1;33m,\u001b[0m\u001b[0mstart\u001b[0m\u001b[1;33m,\u001b[0m\u001b[0mend\u001b[0m\u001b[1;33m)\u001b[0m\u001b[1;33m\u001b[0m\u001b[1;33m\u001b[0m\u001b[0m\n\u001b[1;32m---> 62\u001b[1;33m     \u001b[0minf\u001b[0m\u001b[1;33m.\u001b[0m\u001b[0mload_predictions_db\u001b[0m\u001b[1;33m(\u001b[0m\u001b[0mdf_pred\u001b[0m\u001b[1;33m,\u001b[0m\u001b[0mctry\u001b[0m\u001b[1;33m,\u001b[0m\u001b[0mcrop\u001b[0m\u001b[1;33m,\u001b[0m\u001b[0mtrade_ctry\u001b[0m\u001b[1;33m,\u001b[0m\u001b[0mregn\u001b[0m\u001b[1;33m,\u001b[0m\u001b[0mctgr\u001b[0m\u001b[1;33m,\u001b[0m\u001b[0mpkge\u001b[0m\u001b[1;33m,\u001b[0m\u001b[0mcrcy\u001b[0m\u001b[1;33m,\u001b[0m\u001b[0mmsre\u001b[0m\u001b[1;33m,\u001b[0m\u001b[0mmdel\u001b[0m\u001b[1;33m)\u001b[0m\u001b[1;33m\u001b[0m\u001b[1;33m\u001b[0m\u001b[0m\n\u001b[0m\u001b[0;32m     63\u001b[0m \u001b[1;33m\u001b[0m\u001b[0m\n\u001b[0;32m     64\u001b[0m     \u001b[0mendp\u001b[0m \u001b[1;33m=\u001b[0m \u001b[0mtime\u001b[0m\u001b[1;33m.\u001b[0m\u001b[0mtime\u001b[0m\u001b[1;33m(\u001b[0m\u001b[1;33m)\u001b[0m\u001b[1;33m\u001b[0m\u001b[1;33m\u001b[0m\u001b[0m\n",
      "\u001b[1;32mc:\\Project_Berries_Pricing\\Berries_Pricing\\src\\d03_modelling\\inference.py\u001b[0m in \u001b[0;36mload_predictions_db\u001b[1;34m(df_price_model, ctry, crop, trade_ctry, regn, ctgr, pkge, crcy, msre, mdel)\u001b[0m\n\u001b[0;32m    139\u001b[0m \u001b[1;33m\u001b[0m\u001b[0m\n\u001b[0;32m    140\u001b[0m     \u001b[1;31m# Delete all prices predicted which are being predicted (greater than the minimum prediction date) for the country and crop\u001b[0m\u001b[1;33m\u001b[0m\u001b[1;33m\u001b[0m\u001b[1;33m\u001b[0m\u001b[0m\n\u001b[1;32m--> 141\u001b[1;33m     \u001b[0mmin_pred_date\u001b[0m \u001b[1;33m=\u001b[0m \u001b[0mmin\u001b[0m\u001b[1;33m(\u001b[0m\u001b[0mdf_price_model\u001b[0m\u001b[1;33m[\u001b[0m\u001b[0mdf_price_model\u001b[0m\u001b[1;33m.\u001b[0m\u001b[0mPrice_estimated\u001b[0m \u001b[1;33m!=\u001b[0m \u001b[1;36m0\u001b[0m\u001b[1;33m]\u001b[0m\u001b[1;33m.\u001b[0m\u001b[0mDate_ref\u001b[0m\u001b[1;33m)\u001b[0m\u001b[1;33m.\u001b[0m\u001b[0mdate\u001b[0m\u001b[1;33m(\u001b[0m\u001b[1;33m)\u001b[0m\u001b[1;31m#.strftime(\"%Y-%m-%d\")\u001b[0m\u001b[1;33m\u001b[0m\u001b[1;33m\u001b[0m\u001b[0m\n\u001b[0m\u001b[0;32m    142\u001b[0m     \u001b[0mqry_delete\u001b[0m \u001b[1;33m=\u001b[0m \u001b[1;34mf\"DELETE FROM [Prices].[dbo].[prices_prediction] where [Country] = '{ctry}' and [Product]='{crop}' and [Trade_Country]='{trade_ctry}' and [Category]='{ctgr}' and [Model]='{mdel}' and [Date_price] >= '{min_pred_date}'\"\u001b[0m\u001b[1;33m\u001b[0m\u001b[1;33m\u001b[0m\u001b[0m\n\u001b[0;32m    143\u001b[0m     \u001b[0mcursor\u001b[0m\u001b[1;33m.\u001b[0m\u001b[0mexecute\u001b[0m\u001b[1;33m(\u001b[0m\u001b[0mqry_delete\u001b[0m\u001b[1;33m)\u001b[0m\u001b[1;33m\u001b[0m\u001b[1;33m\u001b[0m\u001b[0m\n",
      "\u001b[1;31mAttributeError\u001b[0m: 'NoneType' object has no attribute 'Price_estimated'"
     ]
    }
   ],
   "source": [
    "crop_list = [['RASPBERRIES','US','MX','std','SARIMAX','','','USD','KG',None]]#,\\\n",
    "        #['STRAWBERRIES','US','MX','med','SARIMAX','','','USD','KG',None]]\n",
    "\n",
    "for i in range(0, len(crop_list)):\n",
    "\n",
    "    crop = crop_list[i]\n",
    "    import sys\n",
    "    sys.path.insert(0, '../../src')\n",
    "    #   https://realpython.com/python-modules-packages/\n",
    "    sys.path.append('../../src/d01_data')\n",
    "    sys.path.append('../../src/d02_processing')\n",
    "    sys.path.append('../../src/d03_modelling')\n",
    "\n",
    "    import extractions as extract\n",
    "    import transformations as transf\n",
    "    import training as train\n",
    "    import import_data as imp\n",
    "    import inference as inf\n",
    "    import time  \n",
    "    from dateutil.relativedelta import relativedelta\n",
    "    from datetime import date\n",
    "\n",
    "\n",
    "    ####################  Train ARIMA volume  ####################\n",
    "\n",
    "    # Training\n",
    "\n",
    "    startp = time.time()\n",
    "\n",
    "    crop = crop_list[i][0]\n",
    "    ctry = crop_list[i][1]\n",
    "    trade_ctry = crop_list[i][2]\n",
    "    ctgr = crop_list[i][3]\n",
    "    mdel = crop_list[i][4]\n",
    "    regn = crop_list[i][5]\n",
    "    pkge = crop_list[i][6]\n",
    "    crcy = crop_list[i][7]\n",
    "    msre = crop_list[i][8]\n",
    "    exog = crop_list[i][9]\n",
    "    \n",
    "    ################################### Train SARIMA volumes  ##################################  \n",
    "    #train.train_sarima_model_vols(crop,ctry,trade_ctry,ctgr)\n",
    "\n",
    "    #################### Inference volumes ####################\n",
    "\n",
    "    start = date.today().strftime('%Y-01-01')\n",
    "    end = (date.today() + relativedelta(years=1)).strftime('%Y-12-31')\n",
    "\n",
    "    mdel_vols = 'SARIMA'\n",
    "    df_pred_vols = inf.get_prediction_vols(ctry,crop,trade_ctry,regn,ctgr,pkge,crcy,msre,mdel_vols,start,end)\n",
    "    # not necessary to save volumes predicted in DB\n",
    "    exog = df_pred_vols[df_pred_vols.Date_ref > date.today().strftime('%Y-01-01')].drop(columns=['Volume']).set_index('Date_ref')\n",
    "\n",
    "    #################################### Train SARIMAX model  ###################################\n",
    "    train.train_sarimax_model(crop,ctry,trade_ctry,ctgr,exog)\n",
    "\n",
    "    #################### Inference SARIMAX price (including SARIMA volumes)  ####################\n",
    "    df_pred = inf.get_prediction(ctry,crop,trade_ctry,regn,ctgr,pkge,crcy,msre,mdel,exog,start,end)\n",
    "    inf.load_predictions_db(df_pred,ctry,crop,trade_ctry,regn,ctgr,pkge,crcy,msre,mdel)\n",
    "\n",
    "    endp = time.time()\n",
    "    duration = endp - startp\n",
    "    minutes = duration // 60\n",
    "    seconds = duration - (minutes * 60)\n",
    "    print(f\"{minutes} minutes and {seconds} seconds\")"
   ]
  }
 ],
 "metadata": {
  "kernelspec": {
   "display_name": "Python 3.8.3 64-bit",
   "language": "python",
   "name": "python38364bit5c446d3ae10d4c4b9ddac51de7b948b5"
  },
  "language_info": {
   "codemirror_mode": {
    "name": "ipython",
    "version": 3
   },
   "file_extension": ".py",
   "mimetype": "text/x-python",
   "name": "python",
   "nbconvert_exporter": "python",
   "pygments_lexer": "ipython3",
   "version": "3.8.3-final"
  }
 },
 "nbformat": 4,
 "nbformat_minor": 2
}