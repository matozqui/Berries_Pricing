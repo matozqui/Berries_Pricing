{
 "cells": [
  {
   "cell_type": "markdown",
   "metadata": {},
   "source": [
    "# US prices and volumes match"
   ]
  },
  {
   "cell_type": "code",
   "execution_count": 1,
   "metadata": {},
   "outputs": [],
   "source": [
    "import sys\n",
    "sys.path.insert(0, '../../src')\n",
    "#   https://realpython.com/python-modules-packages/\n",
    "sys.path.append('../../src/d01_data')\n",
    "sys.path.append('../../src/d02_processing')\n",
    "sys.path.append('../../src/d03_modelling')\n",
    "\n",
    "import extractions as extract\n",
    "import transformations as transf\n",
    "import training as train\n",
    "import import_data as imp\n",
    "import inference as inf\n",
    "\n",
    "ctry = 'US'\n",
    "crop = 'RASPBERRIES'\n",
    "trade_ctry = 'MX'\n",
    "ctgr = 'std'"
   ]
  },
  {
   "cell_type": "code",
   "execution_count": 2,
   "metadata": {},
   "outputs": [],
   "source": [
    "df_prices = extract.get_prices_state(crop, ctry, trade_ctry, ctgr)\n",
    "#df_prices.set_index('Date_price',inplace=True)"
   ]
  },
  {
   "cell_type": "code",
   "execution_count": 3,
   "metadata": {},
   "outputs": [
    {
     "output_type": "execute_result",
     "data": {
      "text/plain": "(1722, 8)"
     },
     "metadata": {},
     "execution_count": 3
    }
   ],
   "source": [
    "df_prices.shape"
   ]
  },
  {
   "cell_type": "code",
   "execution_count": 4,
   "metadata": {},
   "outputs": [
    {
     "output_type": "execute_result",
     "data": {
      "text/plain": "   State      Product Country Trade_Country Category  Date_price  Campaign  \\\n0  TEXAS  RASPBERRIES      US            MX      std  2010-01-04      2009   \n1  TEXAS  RASPBERRIES      US            MX      std  2010-01-05      2009   \n\n       Price  \n0  15.747306  \n1  15.747306  ",
      "text/html": "<div>\n<style scoped>\n    .dataframe tbody tr th:only-of-type {\n        vertical-align: middle;\n    }\n\n    .dataframe tbody tr th {\n        vertical-align: top;\n    }\n\n    .dataframe thead th {\n        text-align: right;\n    }\n</style>\n<table border=\"1\" class=\"dataframe\">\n  <thead>\n    <tr style=\"text-align: right;\">\n      <th></th>\n      <th>State</th>\n      <th>Product</th>\n      <th>Country</th>\n      <th>Trade_Country</th>\n      <th>Category</th>\n      <th>Date_price</th>\n      <th>Campaign</th>\n      <th>Price</th>\n    </tr>\n  </thead>\n  <tbody>\n    <tr>\n      <th>0</th>\n      <td>TEXAS</td>\n      <td>RASPBERRIES</td>\n      <td>US</td>\n      <td>MX</td>\n      <td>std</td>\n      <td>2010-01-04</td>\n      <td>2009</td>\n      <td>15.747306</td>\n    </tr>\n    <tr>\n      <th>1</th>\n      <td>TEXAS</td>\n      <td>RASPBERRIES</td>\n      <td>US</td>\n      <td>MX</td>\n      <td>std</td>\n      <td>2010-01-05</td>\n      <td>2009</td>\n      <td>15.747306</td>\n    </tr>\n  </tbody>\n</table>\n</div>"
     },
     "metadata": {},
     "execution_count": 4
    }
   ],
   "source": [
    "df_prices.head(2)"
   ]
  },
  {
   "cell_type": "code",
   "execution_count": 5,
   "metadata": {},
   "outputs": [],
   "source": [
    "df_volumes = extract.get_volumes_state(crop, ctry, trade_ctry)"
   ]
  },
  {
   "cell_type": "code",
   "execution_count": 6,
   "metadata": {},
   "outputs": [
    {
     "output_type": "execute_result",
     "data": {
      "text/plain": "(12091, 7)"
     },
     "metadata": {},
     "execution_count": 6
    }
   ],
   "source": [
    "df_volumes.shape"
   ]
  },
  {
   "cell_type": "code",
   "execution_count": 7,
   "metadata": {},
   "outputs": [
    {
     "output_type": "execute_result",
     "data": {
      "text/plain": "     State      Product Country Trade_Country Date_volume  Campaign  Volume\n0  ARIZONA  RASPBERRIES      US            MX  2002-05-01      2001     0.0\n1  ARIZONA  RASPBERRIES      US            MX  2004-05-07      2003     0.0",
      "text/html": "<div>\n<style scoped>\n    .dataframe tbody tr th:only-of-type {\n        vertical-align: middle;\n    }\n\n    .dataframe tbody tr th {\n        vertical-align: top;\n    }\n\n    .dataframe thead th {\n        text-align: right;\n    }\n</style>\n<table border=\"1\" class=\"dataframe\">\n  <thead>\n    <tr style=\"text-align: right;\">\n      <th></th>\n      <th>State</th>\n      <th>Product</th>\n      <th>Country</th>\n      <th>Trade_Country</th>\n      <th>Date_volume</th>\n      <th>Campaign</th>\n      <th>Volume</th>\n    </tr>\n  </thead>\n  <tbody>\n    <tr>\n      <th>0</th>\n      <td>ARIZONA</td>\n      <td>RASPBERRIES</td>\n      <td>US</td>\n      <td>MX</td>\n      <td>2002-05-01</td>\n      <td>2001</td>\n      <td>0.0</td>\n    </tr>\n    <tr>\n      <th>1</th>\n      <td>ARIZONA</td>\n      <td>RASPBERRIES</td>\n      <td>US</td>\n      <td>MX</td>\n      <td>2004-05-07</td>\n      <td>2003</td>\n      <td>0.0</td>\n    </tr>\n  </tbody>\n</table>\n</div>"
     },
     "metadata": {},
     "execution_count": 7
    }
   ],
   "source": [
    "df_volumes.head(2)"
   ]
  },
  {
   "cell_type": "code",
   "execution_count": 8,
   "metadata": {},
   "outputs": [],
   "source": [
    "import datetime\n",
    "\n",
    "df_volumes.rename(columns={'Date_volume' : 'Date_ref'},errors=\"raise\",inplace=True)\n",
    "df_prices.rename(columns={'Date_price' : 'Date_ref'},errors=\"raise\",inplace=True)\n",
    "\n",
    "df_volumes_prices = df_volumes.merge(df_prices, how='outer', left_on=['State','Product','Country','Trade_Country','Date_ref'], right_on=['State','Product','Country','Trade_Country','Date_ref'])\n",
    "df_volumes_prices.sort_values(['Product','Country','State','Trade_Country','Date_ref'],inplace=True)\n",
    "\n",
    "#df_volumes_prices.Volume.fillna(value=0, inplace=True)\n",
    "#df_volumes_prices.fillna(method='pad', inplace=True)"
   ]
  },
  {
   "cell_type": "code",
   "execution_count": 17,
   "metadata": {},
   "outputs": [
    {
     "output_type": "execute_result",
     "data": {
      "text/plain": "datetime.date(2020, 8, 27)"
     },
     "metadata": {},
     "execution_count": 17
    }
   ],
   "source": [
    "# First date with price\n",
    "#first_date = max(df_volumes_prices[(df_volumes_prices.Price).isnull()].index) + datetime.timedelta(days=1)\n",
    "#df_volumes_prices.drop(df_volumes_prices[df_volumes_prices.index < first_date].index, inplace=True)\n",
    "\n",
    "max(df_volumes_prices[df_volumes_prices.Price.isnull()].Date_ref)"
   ]
  },
  {
   "cell_type": "code",
   "execution_count": 10,
   "metadata": {},
   "outputs": [
    {
     "output_type": "execute_result",
     "data": {
      "text/plain": "       State      Product Country Trade_Country    Date_ref  Campaign_x  \\\n595  ALABAMA  RASPBERRIES      US            MX  2019-04-27      2018.0   \n76   ALABAMA  RASPBERRIES      US            MX  2019-05-04      2018.0   \n77   ALABAMA  RASPBERRIES      US            MX  2019-05-11      2018.0   \n153  ALABAMA  RASPBERRIES      US            MX  2019-05-18      2018.0   \n154  ARIZONA  RASPBERRIES      US            MX  2001-05-03      2000.0   \n\n        Volume Category  Campaign_y  Price  \n595  4535.9237      NaN         NaN    NaN  \n76   9071.8474      NaN         NaN    NaN  \n77   9071.8474      NaN         NaN    NaN  \n153  4535.9237      NaN         NaN    NaN  \n154     0.0000      NaN         NaN    NaN  ",
      "text/html": "<div>\n<style scoped>\n    .dataframe tbody tr th:only-of-type {\n        vertical-align: middle;\n    }\n\n    .dataframe tbody tr th {\n        vertical-align: top;\n    }\n\n    .dataframe thead th {\n        text-align: right;\n    }\n</style>\n<table border=\"1\" class=\"dataframe\">\n  <thead>\n    <tr style=\"text-align: right;\">\n      <th></th>\n      <th>State</th>\n      <th>Product</th>\n      <th>Country</th>\n      <th>Trade_Country</th>\n      <th>Date_ref</th>\n      <th>Campaign_x</th>\n      <th>Volume</th>\n      <th>Category</th>\n      <th>Campaign_y</th>\n      <th>Price</th>\n    </tr>\n  </thead>\n  <tbody>\n    <tr>\n      <th>595</th>\n      <td>ALABAMA</td>\n      <td>RASPBERRIES</td>\n      <td>US</td>\n      <td>MX</td>\n      <td>2019-04-27</td>\n      <td>2018.0</td>\n      <td>4535.9237</td>\n      <td>NaN</td>\n      <td>NaN</td>\n      <td>NaN</td>\n    </tr>\n    <tr>\n      <th>76</th>\n      <td>ALABAMA</td>\n      <td>RASPBERRIES</td>\n      <td>US</td>\n      <td>MX</td>\n      <td>2019-05-04</td>\n      <td>2018.0</td>\n      <td>9071.8474</td>\n      <td>NaN</td>\n      <td>NaN</td>\n      <td>NaN</td>\n    </tr>\n    <tr>\n      <th>77</th>\n      <td>ALABAMA</td>\n      <td>RASPBERRIES</td>\n      <td>US</td>\n      <td>MX</td>\n      <td>2019-05-11</td>\n      <td>2018.0</td>\n      <td>9071.8474</td>\n      <td>NaN</td>\n      <td>NaN</td>\n      <td>NaN</td>\n    </tr>\n    <tr>\n      <th>153</th>\n      <td>ALABAMA</td>\n      <td>RASPBERRIES</td>\n      <td>US</td>\n      <td>MX</td>\n      <td>2019-05-18</td>\n      <td>2018.0</td>\n      <td>4535.9237</td>\n      <td>NaN</td>\n      <td>NaN</td>\n      <td>NaN</td>\n    </tr>\n    <tr>\n      <th>154</th>\n      <td>ARIZONA</td>\n      <td>RASPBERRIES</td>\n      <td>US</td>\n      <td>MX</td>\n      <td>2001-05-03</td>\n      <td>2000.0</td>\n      <td>0.0000</td>\n      <td>NaN</td>\n      <td>NaN</td>\n      <td>NaN</td>\n    </tr>\n  </tbody>\n</table>\n</div>"
     },
     "metadata": {},
     "execution_count": 10
    }
   ],
   "source": [
    "df_volumes_prices.head()"
   ]
  },
  {
   "cell_type": "code",
   "execution_count": 11,
   "metadata": {},
   "outputs": [
    {
     "output_type": "execute_result",
     "data": {
      "text/plain": "(12093, 10)"
     },
     "metadata": {},
     "execution_count": 11
    }
   ],
   "source": [
    "df_volumes_prices.shape"
   ]
  }
 ],
 "metadata": {
  "kernelspec": {
   "display_name": "Python 3.8.3 64-bit",
   "language": "python",
   "name": "python38364bit5c446d3ae10d4c4b9ddac51de7b948b5"
  },
  "language_info": {
   "codemirror_mode": {
    "name": "ipython",
    "version": 3
   },
   "file_extension": ".py",
   "mimetype": "text/x-python",
   "name": "python",
   "nbconvert_exporter": "python",
   "pygments_lexer": "ipython3",
   "version": "3.8.3-final"
  }
 },
 "nbformat": 4,
 "nbformat_minor": 2
}