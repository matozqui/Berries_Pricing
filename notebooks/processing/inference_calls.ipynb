{
 "cells": [
  {
   "cell_type": "markdown",
   "metadata": {},
   "source": [
    "# Modeling"
   ]
  },
  {
   "cell_type": "code",
   "execution_count": 2,
   "metadata": {},
   "outputs": [],
   "source": [
    "import sys\n",
    "sys.path.insert(0, '../../src')\n",
    "#   https://realpython.com/python-modules-packages/\n",
    "sys.path.append('../../src/d01_data')\n",
    "sys.path.append('../../src/d02_processing')\n",
    "sys.path.append('../../src/d03_modelling')\n",
    "\n",
    "import extractions as extract\n",
    "import transformations as transf\n",
    "import training as train\n",
    "import import_data as imp\n",
    "import inference as inf\n",
    "import time"
   ]
  },
  {
   "cell_type": "code",
   "execution_count": 2,
   "metadata": {},
   "outputs": [],
   "source": [
    "regn = 'ANDALUSIA'\n",
    "catg = 'std'\n",
    "pkge = 'bulk'\n",
    "crcy = 'EUR'\n",
    "msre = 'KG'\n",
    "mdel = 'ARIMA'"
   ]
  },
  {
   "cell_type": "code",
   "execution_count": 3,
   "metadata": {
    "tags": []
   },
   "outputs": [
    {
     "output_type": "stream",
     "name": "stdout",
     "text": "110  new prices added\n0.0 minutes and 4.68327784538269 seconds\n"
    }
   ],
   "source": [
    "start = time.time()\n",
    "\n",
    "ctry = 'ES'\n",
    "crop = 'STRAWBERRIES'\n",
    "inf.model_prediction(ctry,crop,regn,catg,pkge,crcy,msre,mdel)\n",
    "\n",
    "end = time.time()\n",
    "duration = end - start\n",
    "minutes = duration // 60\n",
    "seconds = duration - (minutes * 60)\n",
    "print(f\"{minutes} minutes and {seconds} seconds\")"
   ]
  },
  {
   "cell_type": "code",
   "execution_count": 4,
   "metadata": {
    "tags": []
   },
   "outputs": [
    {
     "output_type": "stream",
     "name": "stdout",
     "text": "123  new prices added\n0.0 minutes and 1.2056846618652344 seconds\n"
    }
   ],
   "source": [
    "start = time.time()\n",
    "\n",
    "ctry = 'ES'\n",
    "crop = 'BLUEBERRIES'\n",
    "inf.model_prediction(ctry,crop,regn,catg,pkge,crcy,msre,mdel)\n",
    "\n",
    "end = time.time()\n",
    "duration = end - start\n",
    "minutes = duration // 60\n",
    "seconds = duration - (minutes * 60)\n",
    "print(f\"{minutes} minutes and {seconds} seconds\")"
   ]
  },
  {
   "cell_type": "code",
   "execution_count": 5,
   "metadata": {
    "tags": []
   },
   "outputs": [
    {
     "output_type": "stream",
     "name": "stdout",
     "text": "187  new prices added\n0.0 minutes and 1.7631888389587402 seconds\n"
    }
   ],
   "source": [
    "start = time.time()\n",
    "\n",
    "ctry = 'ES'\n",
    "crop = 'RASPBERRIES'\n",
    "inf.model_prediction(ctry,crop,regn,catg,pkge,crcy,msre,mdel)\n",
    "\n",
    "end = time.time()\n",
    "duration = end - start\n",
    "minutes = duration // 60\n",
    "seconds = duration - (minutes * 60)\n",
    "print(f\"{minutes} minutes and {seconds} seconds\")"
   ]
  },
  {
   "cell_type": "code",
   "execution_count": 14,
   "metadata": {
    "tags": []
   },
   "outputs": [
    {
     "output_type": "stream",
     "name": "stdout",
     "text": "76  new prices added\n0.0 minutes and 1.2880797386169434 seconds\n"
    }
   ],
   "source": [
    "startp = time.time()\n",
    "\n",
    "\n",
    "ctry = 'US'\n",
    "crop = 'BLUEBERRIES'\n",
    "trade_ctry = 'MX'\n",
    "ctgr = 'std'\n",
    "\n",
    "# Inference\n",
    "\n",
    "regn = ''\n",
    "pkge = ''\n",
    "crcy = 'USD'\n",
    "msre = 'KG'\n",
    "mdel = 'ARIMA'\n",
    "\n",
    "from dateutil.relativedelta import relativedelta\n",
    "from datetime import date\n",
    "\n",
    "start = date.today().strftime('%Y-01-01')\n",
    "end = (date.today() + relativedelta(years=1)).strftime('%Y-12-31')\n",
    "\n",
    "df_pred = inf.get_prediction(ctry,crop,trade_ctry,regn,ctgr,pkge,crcy,msre,mdel,start,end)\n",
    "inf.load_predictions_db(df_pred,ctry,crop,trade_ctry,regn,ctgr,pkge,crcy,msre,mdel)\n",
    "\n",
    "endp = time.time()\n",
    "duration = endp - startp\n",
    "minutes = duration // 60\n",
    "seconds = duration - (minutes * 60)\n",
    "print(f\"{minutes} minutes and {seconds} seconds\")"
   ]
  },
  {
   "cell_type": "code",
   "execution_count": 19,
   "metadata": {
    "tags": []
   },
   "outputs": [
    {
     "output_type": "stream",
     "name": "stdout",
     "text": "73  new prices added\n0.0 minutes and 2.168121099472046 seconds\n"
    }
   ],
   "source": [
    "startp = time.time()\n",
    "\n",
    "\n",
    "ctry = 'US'\n",
    "crop = 'RASPBERRIES'\n",
    "trade_ctry = 'MX'\n",
    "ctgr = 'std'\n",
    "\n",
    "# Inference\n",
    "\n",
    "regn = ''\n",
    "pkge = ''\n",
    "crcy = 'USD'\n",
    "msre = 'KG'\n",
    "mdel = 'ARIMA'\n",
    "\n",
    "from dateutil.relativedelta import relativedelta\n",
    "from datetime import date\n",
    "\n",
    "start = date.today().strftime('%Y-01-01')\n",
    "end = (date.today() + relativedelta(years=1)).strftime('%Y-12-31')\n",
    "\n",
    "df_pred = inf.get_prediction(ctry,crop,trade_ctry,regn,ctgr,pkge,crcy,msre,mdel,start,end)\n",
    "inf.load_predictions_db(df_pred,ctry,crop,trade_ctry,regn,ctgr,pkge,crcy,msre,mdel)\n",
    "\n",
    "endp = time.time()\n",
    "duration = endp - startp\n",
    "minutes = duration // 60\n",
    "seconds = duration - (minutes * 60)\n",
    "print(f\"{minutes} minutes and {seconds} seconds\")"
   ]
  },
  {
   "cell_type": "code",
   "execution_count": null,
   "metadata": {},
   "outputs": [],
   "source": []
  }
 ],
 "metadata": {
  "kernelspec": {
   "display_name": "Python 3.8.3 64-bit",
   "language": "python",
   "name": "python38364bit5c446d3ae10d4c4b9ddac51de7b948b5"
  },
  "language_info": {
   "codemirror_mode": {
    "name": "ipython",
    "version": 3
   },
   "file_extension": ".py",
   "mimetype": "text/x-python",
   "name": "python",
   "nbconvert_exporter": "python",
   "pygments_lexer": "ipython3",
   "version": "3.8.3-final"
  }
 },
 "nbformat": 4,
 "nbformat_minor": 2
}