{
 "cells": [
  {
   "cell_type": "markdown",
   "metadata": {},
   "source": [
    "# Modeling"
   ]
  },
  {
   "cell_type": "code",
   "execution_count": 2,
   "metadata": {},
   "outputs": [],
   "source": [
    "import sys\n",
    "sys.path.insert(0, '../../src')\n",
    "#   https://realpython.com/python-modules-packages/\n",
    "sys.path.append('../../src/d01_data')\n",
    "sys.path.append('../../src/d02_processing')\n",
    "sys.path.append('../../src/d03_modelling')\n",
    "\n",
    "import extractions as extract\n",
    "import transformations as transf\n",
    "import training as train\n",
    "import import_data as imp\n",
    "import inference as inf\n",
    "import time"
   ]
  },
  {
   "cell_type": "code",
   "execution_count": 2,
   "metadata": {},
   "outputs": [],
   "source": [
    "regn = 'ANDALUSIA'\n",
    "catg = 'std'\n",
    "pkge = 'bulk'\n",
    "crcy = 'EUR'\n",
    "msre = 'KG'\n",
    "mdel = 'ARIMA'"
   ]
  },
  {
   "cell_type": "code",
   "execution_count": 3,
   "metadata": {
    "tags": []
   },
   "outputs": [
    {
     "output_type": "stream",
     "name": "stdout",
     "text": "110  new prices added\n0.0 minutes and 4.68327784538269 seconds\n"
    }
   ],
   "source": [
    "start = time.time()\n",
    "\n",
    "ctry = 'ES'\n",
    "crop = 'STRAWBERRIES'\n",
    "inf.model_prediction(ctry,crop,regn,catg,pkge,crcy,msre,mdel)\n",
    "\n",
    "end = time.time()\n",
    "duration = end - start\n",
    "minutes = duration // 60\n",
    "seconds = duration - (minutes * 60)\n",
    "print(f\"{minutes} minutes and {seconds} seconds\")"
   ]
  },
  {
   "cell_type": "code",
   "execution_count": 4,
   "metadata": {
    "tags": []
   },
   "outputs": [
    {
     "output_type": "stream",
     "name": "stdout",
     "text": "123  new prices added\n0.0 minutes and 1.2056846618652344 seconds\n"
    }
   ],
   "source": [
    "start = time.time()\n",
    "\n",
    "ctry = 'ES'\n",
    "crop = 'BLUEBERRIES'\n",
    "inf.model_prediction(ctry,crop,regn,catg,pkge,crcy,msre,mdel)\n",
    "\n",
    "end = time.time()\n",
    "duration = end - start\n",
    "minutes = duration // 60\n",
    "seconds = duration - (minutes * 60)\n",
    "print(f\"{minutes} minutes and {seconds} seconds\")"
   ]
  },
  {
   "cell_type": "code",
   "execution_count": 5,
   "metadata": {
    "tags": []
   },
   "outputs": [
    {
     "output_type": "stream",
     "name": "stdout",
     "text": "187  new prices added\n0.0 minutes and 1.7631888389587402 seconds\n"
    }
   ],
   "source": [
    "start = time.time()\n",
    "\n",
    "ctry = 'ES'\n",
    "crop = 'RASPBERRIES'\n",
    "inf.model_prediction(ctry,crop,regn,catg,pkge,crcy,msre,mdel)\n",
    "\n",
    "end = time.time()\n",
    "duration = end - start\n",
    "minutes = duration // 60\n",
    "seconds = duration - (minutes * 60)\n",
    "print(f\"{minutes} minutes and {seconds} seconds\")"
   ]
  },
  {
   "cell_type": "code",
   "execution_count": 14,
   "metadata": {
    "tags": []
   },
   "outputs": [
    {
     "output_type": "stream",
     "name": "stdout",
     "text": "76  new prices added\n0.0 minutes and 1.2880797386169434 seconds\n"
    }
   ],
   "source": [
    "startp = time.time()\n",
    "\n",
    "\n",
    "ctry = 'US'\n",
    "crop = 'BLUEBERRIES'\n",
    "trade_ctry = 'MX'\n",
    "ctgr = 'std'\n",
    "\n",
    "# Inference\n",
    "\n",
    "regn = ''\n",
    "pkge = ''\n",
    "crcy = 'USD'\n",
    "msre = 'KG'\n",
    "mdel = 'ARIMA'\n",
    "\n",
    "from dateutil.relativedelta import relativedelta\n",
    "from datetime import date\n",
    "\n",
    "start = date.today().strftime('%Y-01-01')\n",
    "end = (date.today() + relativedelta(years=1)).strftime('%Y-12-31')\n",
    "\n",
    "df_pred = inf.get_prediction(ctry,crop,trade_ctry,regn,ctgr,pkge,crcy,msre,mdel,start,end)\n",
    "inf.load_predictions_db(df_pred,ctry,crop,trade_ctry,regn,ctgr,pkge,crcy,msre,mdel)\n",
    "\n",
    "endp = time.time()\n",
    "duration = endp - startp\n",
    "minutes = duration // 60\n",
    "seconds = duration - (minutes * 60)\n",
    "print(f\"{minutes} minutes and {seconds} seconds\")"
   ]
  },
  {
   "cell_type": "code",
   "execution_count": 19,
   "metadata": {
    "tags": []
   },
   "outputs": [
    {
     "output_type": "stream",
     "name": "stdout",
     "text": "73  new prices added\n0.0 minutes and 2.168121099472046 seconds\n"
    }
   ],
   "source": [
    "startp = time.time()\n",
    "\n",
    "\n",
    "ctry = 'US'\n",
    "crop = 'RASPBERRIES'\n",
    "trade_ctry = 'MX'\n",
    "ctgr = 'std'\n",
    "\n",
    "# Inference\n",
    "\n",
    "regn = ''\n",
    "pkge = ''\n",
    "crcy = 'USD'\n",
    "msre = 'KG'\n",
    "mdel = 'ARIMA'\n",
    "\n",
    "from dateutil.relativedelta import relativedelta\n",
    "from datetime import date\n",
    "\n",
    "start = date.today().strftime('%Y-01-01')\n",
    "end = (date.today() + relativedelta(years=1)).strftime('%Y-12-31')\n",
    "\n",
    "df_pred = inf.get_prediction(ctry,crop,trade_ctry,regn,ctgr,pkge,crcy,msre,mdel,start,end)\n",
    "inf.load_predictions_db(df_pred,ctry,crop,trade_ctry,regn,ctgr,pkge,crcy,msre,mdel)\n",
    "\n",
    "endp = time.time()\n",
    "duration = endp - startp\n",
    "minutes = duration // 60\n",
    "seconds = duration - (minutes * 60)\n",
    "print(f\"{minutes} minutes and {seconds} seconds\")"
   ]
  },
  {
   "cell_type": "markdown",
   "metadata": {},
   "source": [
    "## SARIMAX USA"
   ]
  },
  {
   "cell_type": "code",
   "execution_count": 1,
   "metadata": {},
   "outputs": [],
   "source": [
    "import sys\n",
    "sys.path.insert(0, '../../src')\n",
    "#   https://realpython.com/python-modules-packages/\n",
    "sys.path.append('../../src/d01_data')\n",
    "sys.path.append('../../src/d02_processing')\n",
    "sys.path.append('../../src/d03_modelling')\n",
    "\n",
    "import extractions as extract\n",
    "import transformations as transf\n",
    "import training as train\n",
    "import import_data as imp\n",
    "import inference as inf\n",
    "import time"
   ]
  },
  {
   "cell_type": "code",
   "execution_count": 2,
   "metadata": {
    "tags": []
   },
   "outputs": [
    {
     "output_type": "stream",
     "name": "stdout",
     "text": "76  new prices added\n0.0 minutes and 5.214268684387207 seconds\n"
    }
   ],
   "source": [
    "startp = time.time()\n",
    "\n",
    "# Training\n",
    "\n",
    "ctry = 'US'\n",
    "crop = 'BLUEBERRIES'\n",
    "trade_ctry = 'MX'\n",
    "ctgr = 'std'\n",
    "\n",
    "exog = extract.get_volumes(crop,ctry,trade_ctry)\n",
    "\n",
    "# Inference\n",
    "\n",
    "regn = ''\n",
    "pkge = ''\n",
    "crcy = 'USD'\n",
    "msre = 'KG'\n",
    "mdel = 'SARIMAX'\n",
    "\n",
    "from dateutil.relativedelta import relativedelta\n",
    "from datetime import date\n",
    "\n",
    "start = date.today().strftime('%Y-01-01')\n",
    "end = (date.today() + relativedelta(years=1)).strftime('%Y-12-31')\n",
    "\n",
    "exog = exog.tail(105) # exog[(exog.index > start) & (exog.index < end)]\n",
    "\n",
    "df_pred = inf.get_prediction(ctry,crop,trade_ctry,regn,ctgr,pkge,crcy,msre,mdel,exog,start,end)\n",
    "inf.load_predictions_db(df_pred,ctry,crop,trade_ctry,regn,ctgr,pkge,crcy,msre,mdel)\n",
    "\n",
    "endp = time.time()\n",
    "duration = endp - startp\n",
    "minutes = duration // 60\n",
    "seconds = duration - (minutes * 60)\n",
    "print(f\"{minutes} minutes and {seconds} seconds\")"
   ]
  },
  {
   "cell_type": "code",
   "execution_count": 3,
   "metadata": {},
   "outputs": [
    {
     "output_type": "execute_result",
     "data": {
      "text/plain": "      Date_ref  Price_estimated     Price\n4   2020-02-03         7.962732  4.752187\n5   2020-02-10         7.959620  5.438070\n6   2020-02-17         8.096165  7.226264\n7   2020-02-24         7.811308  8.034626\n8   2020-03-02         8.506922  9.553366\n9   2020-03-09         9.482566  9.798324\n10  2020-03-16        10.668095  9.798324\n11  2020-03-23        12.467421  9.798324\n12  2020-03-30        14.296388  9.308408\n13  2020-04-06        15.688132  5.976978\n14  2020-04-13        14.269750  5.389078\n15  2020-04-20        12.485065  5.389078\n16  2020-04-27        10.171510  5.095128\n17  2020-05-04         9.230615  4.899162\n18  2020-05-11         7.778738  4.899162\n19  2020-05-18         7.068869  4.899162\n20  2020-05-25         6.505090  4.899162\n240 2020-06-01         0.000000  4.409246\n241 2020-06-08         0.000000  4.213279\n242 2020-06-15         0.000000  4.164288",
      "text/html": "<div>\n<style scoped>\n    .dataframe tbody tr th:only-of-type {\n        vertical-align: middle;\n    }\n\n    .dataframe tbody tr th {\n        vertical-align: top;\n    }\n\n    .dataframe thead th {\n        text-align: right;\n    }\n</style>\n<table border=\"1\" class=\"dataframe\">\n  <thead>\n    <tr style=\"text-align: right;\">\n      <th></th>\n      <th>Date_ref</th>\n      <th>Price_estimated</th>\n      <th>Price</th>\n    </tr>\n  </thead>\n  <tbody>\n    <tr>\n      <th>4</th>\n      <td>2020-02-03</td>\n      <td>7.962732</td>\n      <td>4.752187</td>\n    </tr>\n    <tr>\n      <th>5</th>\n      <td>2020-02-10</td>\n      <td>7.959620</td>\n      <td>5.438070</td>\n    </tr>\n    <tr>\n      <th>6</th>\n      <td>2020-02-17</td>\n      <td>8.096165</td>\n      <td>7.226264</td>\n    </tr>\n    <tr>\n      <th>7</th>\n      <td>2020-02-24</td>\n      <td>7.811308</td>\n      <td>8.034626</td>\n    </tr>\n    <tr>\n      <th>8</th>\n      <td>2020-03-02</td>\n      <td>8.506922</td>\n      <td>9.553366</td>\n    </tr>\n    <tr>\n      <th>9</th>\n      <td>2020-03-09</td>\n      <td>9.482566</td>\n      <td>9.798324</td>\n    </tr>\n    <tr>\n      <th>10</th>\n      <td>2020-03-16</td>\n      <td>10.668095</td>\n      <td>9.798324</td>\n    </tr>\n    <tr>\n      <th>11</th>\n      <td>2020-03-23</td>\n      <td>12.467421</td>\n      <td>9.798324</td>\n    </tr>\n    <tr>\n      <th>12</th>\n      <td>2020-03-30</td>\n      <td>14.296388</td>\n      <td>9.308408</td>\n    </tr>\n    <tr>\n      <th>13</th>\n      <td>2020-04-06</td>\n      <td>15.688132</td>\n      <td>5.976978</td>\n    </tr>\n    <tr>\n      <th>14</th>\n      <td>2020-04-13</td>\n      <td>14.269750</td>\n      <td>5.389078</td>\n    </tr>\n    <tr>\n      <th>15</th>\n      <td>2020-04-20</td>\n      <td>12.485065</td>\n      <td>5.389078</td>\n    </tr>\n    <tr>\n      <th>16</th>\n      <td>2020-04-27</td>\n      <td>10.171510</td>\n      <td>5.095128</td>\n    </tr>\n    <tr>\n      <th>17</th>\n      <td>2020-05-04</td>\n      <td>9.230615</td>\n      <td>4.899162</td>\n    </tr>\n    <tr>\n      <th>18</th>\n      <td>2020-05-11</td>\n      <td>7.778738</td>\n      <td>4.899162</td>\n    </tr>\n    <tr>\n      <th>19</th>\n      <td>2020-05-18</td>\n      <td>7.068869</td>\n      <td>4.899162</td>\n    </tr>\n    <tr>\n      <th>20</th>\n      <td>2020-05-25</td>\n      <td>6.505090</td>\n      <td>4.899162</td>\n    </tr>\n    <tr>\n      <th>240</th>\n      <td>2020-06-01</td>\n      <td>0.000000</td>\n      <td>4.409246</td>\n    </tr>\n    <tr>\n      <th>241</th>\n      <td>2020-06-08</td>\n      <td>0.000000</td>\n      <td>4.213279</td>\n    </tr>\n    <tr>\n      <th>242</th>\n      <td>2020-06-15</td>\n      <td>0.000000</td>\n      <td>4.164288</td>\n    </tr>\n  </tbody>\n</table>\n</div>"
     },
     "metadata": {},
     "execution_count": 3
    }
   ],
   "source": [
    "df_pred[df_pred.Price != 0].tail(20)#.tail(50)"
   ]
  },
  {
   "cell_type": "code",
   "execution_count": null,
   "metadata": {},
   "outputs": [],
   "source": []
  }
 ],
 "metadata": {
  "kernelspec": {
   "display_name": "Python 3.8.3 64-bit",
   "language": "python",
   "name": "python38364bit5c446d3ae10d4c4b9ddac51de7b948b5"
  },
  "language_info": {
   "codemirror_mode": {
    "name": "ipython",
    "version": 3
   },
   "file_extension": ".py",
   "mimetype": "text/x-python",
   "name": "python",
   "nbconvert_exporter": "python",
   "pygments_lexer": "ipython3",
   "version": "3.8.3-final"
  }
 },
 "nbformat": 4,
 "nbformat_minor": 2
}