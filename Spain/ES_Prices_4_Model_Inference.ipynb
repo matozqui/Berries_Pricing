{
 "cells": [
  {
   "cell_type": "markdown",
   "metadata": {},
   "source": [
    "# Modeling"
   ]
  },
  {
   "cell_type": "code",
   "execution_count": 1,
   "metadata": {},
   "outputs": [],
   "source": [
    "import Model_inference as inference\n",
    "import time"
   ]
  },
  {
   "cell_type": "code",
   "execution_count": 2,
   "metadata": {},
   "outputs": [],
   "source": [
    "regn = 'ANDALUSIA'\n",
    "catg = 'std'\n",
    "pkge = 'bulk'\n",
    "crcy = 'EUR'\n",
    "msre = 'KG'\n",
    "mdel = 'ARIMA'"
   ]
  },
  {
   "cell_type": "code",
   "execution_count": 3,
   "metadata": {
    "tags": []
   },
   "outputs": [
    {
     "output_type": "stream",
     "name": "stdout",
     "text": "110  new prices added\n0.0 minutes and 4.001240968704224 seconds\n"
    }
   ],
   "source": [
    "start = time.time()\n",
    "\n",
    "ctry = 'ES'\n",
    "crop = 'STRAWBERRIES'\n",
    "inference.model_prediction(ctry,crop,regn,catg,pkge,crcy,msre,mdel)\n",
    "\n",
    "end = time.time()\n",
    "duration = end - start\n",
    "minutes = duration // 60\n",
    "seconds = duration - (minutes * 60)\n",
    "print(f\"{minutes} minutes and {seconds} seconds\")"
   ]
  },
  {
   "cell_type": "code",
   "execution_count": 4,
   "metadata": {
    "tags": []
   },
   "outputs": [
    {
     "output_type": "stream",
     "name": "stdout",
     "text": "122  new prices added\n0.0 minutes and 1.119072437286377 seconds\n"
    }
   ],
   "source": [
    "start = time.time()\n",
    "\n",
    "ctry = 'ES'\n",
    "crop = 'BLUEBERRIES'\n",
    "inference.model_prediction(ctry,crop,regn,catg,pkge,crcy,msre,mdel)\n",
    "\n",
    "end = time.time()\n",
    "duration = end - start\n",
    "minutes = duration // 60\n",
    "seconds = duration - (minutes * 60)\n",
    "print(f\"{minutes} minutes and {seconds} seconds\")"
   ]
  },
  {
   "cell_type": "code",
   "execution_count": 5,
   "metadata": {
    "tags": []
   },
   "outputs": [
    {
     "output_type": "stream",
     "name": "stdout",
     "text": "186  new prices added\n0.0 minutes and 1.1010549068450928 seconds\n"
    }
   ],
   "source": [
    "start = time.time()\n",
    "\n",
    "ctry = 'ES'\n",
    "crop = 'RASPBERRIES'\n",
    "inference.model_prediction(ctry,crop,regn,catg,pkge,crcy,msre,mdel)\n",
    "\n",
    "end = time.time()\n",
    "duration = end - start\n",
    "minutes = duration // 60\n",
    "seconds = duration - (minutes * 60)\n",
    "print(f\"{minutes} minutes and {seconds} seconds\")"
   ]
  },
  {
   "cell_type": "code",
   "execution_count": null,
   "metadata": {},
   "outputs": [],
   "source": []
  },
  {
   "cell_type": "code",
   "execution_count": null,
   "metadata": {},
   "outputs": [],
   "source": []
  }
 ],
 "metadata": {
  "kernelspec": {
   "display_name": "Python 3.8.3 64-bit",
   "language": "python",
   "name": "python38364bit5c446d3ae10d4c4b9ddac51de7b948b5"
  },
  "language_info": {
   "codemirror_mode": {
    "name": "ipython",
    "version": 3
   },
   "file_extension": ".py",
   "mimetype": "text/x-python",
   "name": "python",
   "nbconvert_exporter": "python",
   "pygments_lexer": "ipython3",
   "version": "3.8.3-final"
  }
 },
 "nbformat": 4,
 "nbformat_minor": 2
}